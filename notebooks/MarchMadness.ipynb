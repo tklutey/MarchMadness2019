{
 "cells": [
  {
   "cell_type": "code",
   "execution_count": 1,
   "metadata": {},
   "outputs": [],
   "source": [
    "# Import necessary dependencies\n",
    "import tensorflow as tf\n",
    "import numpy as np\n",
    "import pandas as pd\n",
    "import matplotlib.pyplot as plt\n",
    "import seaborn as sns\n",
    "from tensorflow import keras\n",
    "from tensorflow.keras import layers"
   ]
  },
  {
   "cell_type": "markdown",
   "metadata": {},
   "source": [
    "# I. Read in Data\n",
    "\n",
    "Other features to add:\n",
    "\n",
    "1) Normalize by year (already there)\n",
    "\n",
    "2) Round of game (data)\n",
    "\n",
    "3) Ratings (bball_ref)\n",
    "\n",
    "4) Poll stats (bball_ref)\n",
    "\n",
    "* Conference\n",
    "* Round of game\n",
    "* Normalize stats by years\n",
    "* Ratings\n",
    "* Polling stats\n",
    "* Distance from game location\n",
    "* Conference standings\n",
    "* Conference tourney results\n",
    "* Result if played during reg. season\n",
    "* Winning streak going into tournament\n",
    "* Coach stats"
   ]
  },
  {
   "cell_type": "markdown",
   "metadata": {},
   "source": [
    "## Utils\n",
    "Only look at these methods if you really care to."
   ]
  },
  {
   "cell_type": "code",
   "execution_count": 2,
   "metadata": {},
   "outputs": [],
   "source": [
    "def create_key_from_fields(*a):\n",
    "    first = True\n",
    "    key = ''\n",
    "    for i in a:\n",
    "        if first is True:\n",
    "            key = i.astype(str)\n",
    "            first = False\n",
    "        else:\n",
    "            key = key + '_' + i.astype(str)\n",
    "    return key\n",
    "\n",
    "def get_nan_column_list(df):\n",
    "    return df.columns[df.isna().any()].tolist()\n",
    "    \n",
    "def parse_single_season_team_data(dataframe, year):\n",
    "    dataframe['Year'] = year + 1\n",
    "    dataframe.rename(\n",
    "        index=str,\n",
    "        columns={\n",
    "            'W.1': 'Conf. wins', 'L.1': 'Conf. losses',\n",
    "            'W.2': 'Home wins', 'L.2': 'Home losses',\n",
    "            'W.3': 'Away wins', 'L.3': 'Away losses',\n",
    "            'Tm.': 'Points for', 'Opp.': 'Points against'\n",
    "        },\n",
    "        inplace=True\n",
    "    )\n",
    "    # Drop columns that have known null values for multiple rows\n",
    "    dataframe.drop(labels=['Conf. wins', 'Conf. losses', 'MP', 'ORB', 'Rk', 'Unnamed: 16',\n",
    "                           \n",
    "                          'Home wins', 'Home losses', 'Away wins', 'Away losses',\n",
    "                           'Points against', 'TRB', 'TOV', 'PF'\n",
    "                           \n",
    "                          ], inplace=True, axis=1)\n",
    "    \n",
    "    # Experiment w/ columns to drop\n",
    "#     dataframe.drop(labels=['G', 'W', 'L', 'Points for', 'FG', 'FGA', '3P', '3PA', 'FT', 'FTA'], inplace=True, axis=1)\n",
    "\n",
    "    return dataframe\n",
    "\n",
    "def load_season_team_data(start, end):\n",
    "    bball_ref_dir = base_dir + '/data/bball_reference/'\n",
    "    df_regular_season_aggregated = pd.DataFrame()\n",
    "    for year in range(start, end):\n",
    "        regular_season_csv = bball_ref_dir + str(year) + '_season.csv'\n",
    "        df_regular_season = pd.read_csv(regular_season_csv, header=1)\n",
    "        df_regular_season = parse_single_season_team_data(df_regular_season, year)\n",
    "        df_regular_season_aggregated = df_regular_season_aggregated.append(df_regular_season)\n",
    "    return df_regular_season_aggregated"
   ]
  },
  {
   "cell_type": "markdown",
   "metadata": {},
   "source": [
    "Define constants for filepaths to be used later in notebook"
   ]
  },
  {
   "cell_type": "code",
   "execution_count": 3,
   "metadata": {},
   "outputs": [],
   "source": [
    "# Define Constants\n",
    "base_dir = '/Users/kluteytk/development/projects/march_madness'\n",
    "tourney_results_csv = base_dir + '/data/DataFiles/NCAATourneyCompactResults.csv'\n",
    "tourney_seeds_csv = base_dir + '/data/DataFiles/NCAATourneySeeds.csv'\n",
    "tourney_rounds_csv = base_dir + '/data/DataFiles/NCAATourneySeedRoundSlots.csv'\n",
    "teams_csv = base_dir + '/data/DataFiles/Teams.csv'"
   ]
  },
  {
   "cell_type": "markdown",
   "metadata": {},
   "source": [
    "## Team Data\n",
    "### Single Season Stats"
   ]
  },
  {
   "cell_type": "code",
   "execution_count": 4,
   "metadata": {},
   "outputs": [
    {
     "data": {
      "text/plain": [
       "Index(['School', 'G', 'W', 'L', 'W-L%', 'SRS', 'SOS', 'Points for', 'FG',\n",
       "       'FGA', 'FG%', '3P', '3PA', '3P%', 'FT', 'FTA', 'FT%', 'AST', 'STL',\n",
       "       'BLK', 'Year'],\n",
       "      dtype='object')"
      ]
     },
     "execution_count": 4,
     "metadata": {},
     "output_type": "execute_result"
    }
   ],
   "source": [
    "df_regular_season_aggregated = load_season_team_data(1993, 2017)\n",
    "\n",
    "df_regular_season_aggregated.keys()"
   ]
  },
  {
   "cell_type": "code",
   "execution_count": 5,
   "metadata": {},
   "outputs": [
    {
     "name": "stdout",
     "output_type": "stream",
     "text": [
      "[]\n"
     ]
    }
   ],
   "source": [
    "nan_cols = get_nan_column_list(df_regular_season_aggregated)\n",
    "print(nan_cols)"
   ]
  },
  {
   "cell_type": "code",
   "execution_count": 6,
   "metadata": {},
   "outputs": [
    {
     "data": {
      "text/html": [
       "<div>\n",
       "<style scoped>\n",
       "    .dataframe tbody tr th:only-of-type {\n",
       "        vertical-align: middle;\n",
       "    }\n",
       "\n",
       "    .dataframe tbody tr th {\n",
       "        vertical-align: top;\n",
       "    }\n",
       "\n",
       "    .dataframe thead th {\n",
       "        text-align: right;\n",
       "    }\n",
       "</style>\n",
       "<table border=\"1\" class=\"dataframe\">\n",
       "  <thead>\n",
       "    <tr style=\"text-align: right;\">\n",
       "      <th></th>\n",
       "      <th>School</th>\n",
       "      <th>G</th>\n",
       "      <th>W</th>\n",
       "      <th>L</th>\n",
       "      <th>W-L%</th>\n",
       "      <th>SRS</th>\n",
       "      <th>SOS</th>\n",
       "      <th>Points for</th>\n",
       "      <th>FG</th>\n",
       "      <th>FGA</th>\n",
       "      <th>...</th>\n",
       "      <th>3P</th>\n",
       "      <th>3PA</th>\n",
       "      <th>3P%</th>\n",
       "      <th>FT</th>\n",
       "      <th>FTA</th>\n",
       "      <th>FT%</th>\n",
       "      <th>AST</th>\n",
       "      <th>STL</th>\n",
       "      <th>BLK</th>\n",
       "      <th>Year</th>\n",
       "    </tr>\n",
       "  </thead>\n",
       "  <tbody>\n",
       "    <tr>\n",
       "      <th>0</th>\n",
       "      <td>Air Force</td>\n",
       "      <td>28</td>\n",
       "      <td>9</td>\n",
       "      <td>19</td>\n",
       "      <td>0.321</td>\n",
       "      <td>-7.45</td>\n",
       "      <td>2.05</td>\n",
       "      <td>1833</td>\n",
       "      <td>644</td>\n",
       "      <td>1554</td>\n",
       "      <td>...</td>\n",
       "      <td>136</td>\n",
       "      <td>434</td>\n",
       "      <td>0.313</td>\n",
       "      <td>409</td>\n",
       "      <td>584</td>\n",
       "      <td>0.700</td>\n",
       "      <td>285</td>\n",
       "      <td>178</td>\n",
       "      <td>109</td>\n",
       "      <td>1994</td>\n",
       "    </tr>\n",
       "    <tr>\n",
       "      <th>1</th>\n",
       "      <td>Akron</td>\n",
       "      <td>26</td>\n",
       "      <td>8</td>\n",
       "      <td>18</td>\n",
       "      <td>0.308</td>\n",
       "      <td>-10.69</td>\n",
       "      <td>-5.07</td>\n",
       "      <td>1614</td>\n",
       "      <td>580</td>\n",
       "      <td>1327</td>\n",
       "      <td>...</td>\n",
       "      <td>134</td>\n",
       "      <td>368</td>\n",
       "      <td>0.364</td>\n",
       "      <td>320</td>\n",
       "      <td>493</td>\n",
       "      <td>0.649</td>\n",
       "      <td>316</td>\n",
       "      <td>163</td>\n",
       "      <td>47</td>\n",
       "      <td>1994</td>\n",
       "    </tr>\n",
       "    <tr>\n",
       "      <th>2</th>\n",
       "      <td>Alabama-Birmingham</td>\n",
       "      <td>35</td>\n",
       "      <td>21</td>\n",
       "      <td>14</td>\n",
       "      <td>0.600</td>\n",
       "      <td>10.82</td>\n",
       "      <td>5.68</td>\n",
       "      <td>2432</td>\n",
       "      <td>888</td>\n",
       "      <td>1998</td>\n",
       "      <td>...</td>\n",
       "      <td>200</td>\n",
       "      <td>539</td>\n",
       "      <td>0.371</td>\n",
       "      <td>456</td>\n",
       "      <td>650</td>\n",
       "      <td>0.702</td>\n",
       "      <td>501</td>\n",
       "      <td>246</td>\n",
       "      <td>135</td>\n",
       "      <td>1994</td>\n",
       "    </tr>\n",
       "    <tr>\n",
       "      <th>3</th>\n",
       "      <td>Alabama State</td>\n",
       "      <td>27</td>\n",
       "      <td>14</td>\n",
       "      <td>13</td>\n",
       "      <td>0.519</td>\n",
       "      <td>-8.48</td>\n",
       "      <td>-9.70</td>\n",
       "      <td>2378</td>\n",
       "      <td>852</td>\n",
       "      <td>1772</td>\n",
       "      <td>...</td>\n",
       "      <td>133</td>\n",
       "      <td>359</td>\n",
       "      <td>0.370</td>\n",
       "      <td>541</td>\n",
       "      <td>767</td>\n",
       "      <td>0.705</td>\n",
       "      <td>393</td>\n",
       "      <td>194</td>\n",
       "      <td>42</td>\n",
       "      <td>1994</td>\n",
       "    </tr>\n",
       "    <tr>\n",
       "      <th>4</th>\n",
       "      <td>Alabama</td>\n",
       "      <td>29</td>\n",
       "      <td>16</td>\n",
       "      <td>13</td>\n",
       "      <td>0.552</td>\n",
       "      <td>9.66</td>\n",
       "      <td>7.83</td>\n",
       "      <td>2192</td>\n",
       "      <td>782</td>\n",
       "      <td>1691</td>\n",
       "      <td>...</td>\n",
       "      <td>170</td>\n",
       "      <td>505</td>\n",
       "      <td>0.337</td>\n",
       "      <td>458</td>\n",
       "      <td>702</td>\n",
       "      <td>0.652</td>\n",
       "      <td>337</td>\n",
       "      <td>185</td>\n",
       "      <td>120</td>\n",
       "      <td>1994</td>\n",
       "    </tr>\n",
       "  </tbody>\n",
       "</table>\n",
       "<p>5 rows × 21 columns</p>\n",
       "</div>"
      ],
      "text/plain": [
       "               School   G   W   L   W-L%    SRS   SOS  Points for   FG   FGA  \\\n",
       "0           Air Force  28   9  19  0.321  -7.45  2.05        1833  644  1554   \n",
       "1               Akron  26   8  18  0.308 -10.69 -5.07        1614  580  1327   \n",
       "2  Alabama-Birmingham  35  21  14  0.600  10.82  5.68        2432  888  1998   \n",
       "3       Alabama State  27  14  13  0.519  -8.48 -9.70        2378  852  1772   \n",
       "4             Alabama  29  16  13  0.552   9.66  7.83        2192  782  1691   \n",
       "\n",
       "   ...    3P  3PA    3P%   FT  FTA    FT%  AST  STL  BLK  Year  \n",
       "0  ...   136  434  0.313  409  584  0.700  285  178  109  1994  \n",
       "1  ...   134  368  0.364  320  493  0.649  316  163   47  1994  \n",
       "2  ...   200  539  0.371  456  650  0.702  501  246  135  1994  \n",
       "3  ...   133  359  0.370  541  767  0.705  393  194   42  1994  \n",
       "4  ...   170  505  0.337  458  702  0.652  337  185  120  1994  \n",
       "\n",
       "[5 rows x 21 columns]"
      ]
     },
     "execution_count": 6,
     "metadata": {},
     "output_type": "execute_result"
    }
   ],
   "source": [
    "df_regular_season_aggregated.head()"
   ]
  },
  {
   "cell_type": "code",
   "execution_count": 7,
   "metadata": {},
   "outputs": [
    {
     "data": {
      "text/plain": [
       "(7793, 21)"
      ]
     },
     "execution_count": 7,
     "metadata": {},
     "output_type": "execute_result"
    }
   ],
   "source": [
    "df_regular_season_aggregated.shape"
   ]
  },
  {
   "cell_type": "markdown",
   "metadata": {},
   "source": [
    "### Metadata/Name Data"
   ]
  },
  {
   "cell_type": "code",
   "execution_count": 8,
   "metadata": {},
   "outputs": [
    {
     "data": {
      "text/html": [
       "<div>\n",
       "<style scoped>\n",
       "    .dataframe tbody tr th:only-of-type {\n",
       "        vertical-align: middle;\n",
       "    }\n",
       "\n",
       "    .dataframe tbody tr th {\n",
       "        vertical-align: top;\n",
       "    }\n",
       "\n",
       "    .dataframe thead th {\n",
       "        text-align: right;\n",
       "    }\n",
       "</style>\n",
       "<table border=\"1\" class=\"dataframe\">\n",
       "  <thead>\n",
       "    <tr style=\"text-align: right;\">\n",
       "      <th></th>\n",
       "      <th>TeamID</th>\n",
       "      <th>TeamName</th>\n",
       "    </tr>\n",
       "  </thead>\n",
       "  <tbody>\n",
       "    <tr>\n",
       "      <th>0</th>\n",
       "      <td>1101</td>\n",
       "      <td>Abilene Christian</td>\n",
       "    </tr>\n",
       "    <tr>\n",
       "      <th>1</th>\n",
       "      <td>1102</td>\n",
       "      <td>Air Force</td>\n",
       "    </tr>\n",
       "    <tr>\n",
       "      <th>2</th>\n",
       "      <td>1103</td>\n",
       "      <td>Akron</td>\n",
       "    </tr>\n",
       "    <tr>\n",
       "      <th>3</th>\n",
       "      <td>1104</td>\n",
       "      <td>Alabama</td>\n",
       "    </tr>\n",
       "    <tr>\n",
       "      <th>4</th>\n",
       "      <td>1105</td>\n",
       "      <td>Alabama A&amp;M</td>\n",
       "    </tr>\n",
       "  </tbody>\n",
       "</table>\n",
       "</div>"
      ],
      "text/plain": [
       "   TeamID           TeamName\n",
       "0    1101  Abilene Christian\n",
       "1    1102          Air Force\n",
       "2    1103              Akron\n",
       "3    1104            Alabama\n",
       "4    1105        Alabama A&M"
      ]
     },
     "execution_count": 8,
     "metadata": {},
     "output_type": "execute_result"
    }
   ],
   "source": [
    "df_team_metadata = pd.read_csv(teams_csv)\n",
    "df_team_metadata.drop(labels=['FirstD1Season', 'LastD1Season'], inplace=True, axis=1)\n",
    "\n",
    "df_team_metadata.head()"
   ]
  },
  {
   "cell_type": "markdown",
   "metadata": {},
   "source": [
    "### Seed Data"
   ]
  },
  {
   "cell_type": "code",
   "execution_count": 9,
   "metadata": {},
   "outputs": [],
   "source": [
    "# df_seeds = pd.read_csv(tourney_seeds_csv)\n",
    "# df_seeds.head()"
   ]
  },
  {
   "cell_type": "code",
   "execution_count": 10,
   "metadata": {},
   "outputs": [],
   "source": [
    "# df_seeds = pd.read_csv(tourney_seeds_csv)\n",
    "# df_seeds = parse_seed(df_seeds)\n",
    "# df_seeds['TeamSeasonId'] = create_key_from_fields(df_seeds['TeamID'], df_seeds['Season'])\n",
    "# df_seeds = df_seeds.drop(['TeamID', 'Season'], axis=1)\n",
    "\n",
    "# df_seeds.head()"
   ]
  },
  {
   "cell_type": "markdown",
   "metadata": {},
   "source": [
    "### Merge Team Data"
   ]
  },
  {
   "cell_type": "code",
   "execution_count": 11,
   "metadata": {},
   "outputs": [
    {
     "data": {
      "text/plain": [
       "(5426, 23)"
      ]
     },
     "execution_count": 11,
     "metadata": {},
     "output_type": "execute_result"
    }
   ],
   "source": [
    "df_regular_season_data = pd.merge(left=df_team_metadata, right=df_regular_season_aggregated, how='inner', right_on='School', left_on='TeamName').drop('School', axis=1)\n",
    "\n",
    "df_map = pd.merge(left=df_team_metadata, right=df_regular_season_aggregated, how='left', right_on='School', left_on='TeamName').drop('School', axis=1)\n",
    "\n",
    "df_regular_season_data['TeamSeasonId'] = create_key_from_fields(df_regular_season_data['TeamID'], df_regular_season_data['Year'])\n",
    "\n",
    "df_regular_season_data.shape"
   ]
  },
  {
   "cell_type": "code",
   "execution_count": 12,
   "metadata": {},
   "outputs": [
    {
     "data": {
      "text/html": [
       "<div>\n",
       "<style scoped>\n",
       "    .dataframe tbody tr th:only-of-type {\n",
       "        vertical-align: middle;\n",
       "    }\n",
       "\n",
       "    .dataframe tbody tr th {\n",
       "        vertical-align: top;\n",
       "    }\n",
       "\n",
       "    .dataframe thead th {\n",
       "        text-align: right;\n",
       "    }\n",
       "</style>\n",
       "<table border=\"1\" class=\"dataframe\">\n",
       "  <thead>\n",
       "    <tr style=\"text-align: right;\">\n",
       "      <th></th>\n",
       "      <th>TeamID</th>\n",
       "      <th>TeamName</th>\n",
       "      <th>G</th>\n",
       "      <th>W</th>\n",
       "      <th>L</th>\n",
       "      <th>W-L%</th>\n",
       "      <th>SRS</th>\n",
       "      <th>SOS</th>\n",
       "      <th>Points for</th>\n",
       "      <th>FG</th>\n",
       "      <th>...</th>\n",
       "      <th>3PA</th>\n",
       "      <th>3P%</th>\n",
       "      <th>FT</th>\n",
       "      <th>FTA</th>\n",
       "      <th>FT%</th>\n",
       "      <th>AST</th>\n",
       "      <th>STL</th>\n",
       "      <th>BLK</th>\n",
       "      <th>Year</th>\n",
       "      <th>TeamSeasonId</th>\n",
       "    </tr>\n",
       "  </thead>\n",
       "  <tbody>\n",
       "    <tr>\n",
       "      <th>0</th>\n",
       "      <td>1101</td>\n",
       "      <td>Abilene Christian</td>\n",
       "      <td>31</td>\n",
       "      <td>11</td>\n",
       "      <td>20</td>\n",
       "      <td>0.355</td>\n",
       "      <td>-19.60</td>\n",
       "      <td>-4.12</td>\n",
       "      <td>2214</td>\n",
       "      <td>737</td>\n",
       "      <td>...</td>\n",
       "      <td>599</td>\n",
       "      <td>0.402</td>\n",
       "      <td>499</td>\n",
       "      <td>666</td>\n",
       "      <td>0.749</td>\n",
       "      <td>402</td>\n",
       "      <td>221</td>\n",
       "      <td>72</td>\n",
       "      <td>2015</td>\n",
       "      <td>1101_2015</td>\n",
       "    </tr>\n",
       "    <tr>\n",
       "      <th>1</th>\n",
       "      <td>1101</td>\n",
       "      <td>Abilene Christian</td>\n",
       "      <td>31</td>\n",
       "      <td>10</td>\n",
       "      <td>21</td>\n",
       "      <td>0.323</td>\n",
       "      <td>-17.20</td>\n",
       "      <td>-6.34</td>\n",
       "      <td>1976</td>\n",
       "      <td>695</td>\n",
       "      <td>...</td>\n",
       "      <td>610</td>\n",
       "      <td>0.380</td>\n",
       "      <td>354</td>\n",
       "      <td>487</td>\n",
       "      <td>0.727</td>\n",
       "      <td>394</td>\n",
       "      <td>203</td>\n",
       "      <td>38</td>\n",
       "      <td>2016</td>\n",
       "      <td>1101_2016</td>\n",
       "    </tr>\n",
       "    <tr>\n",
       "      <th>2</th>\n",
       "      <td>1101</td>\n",
       "      <td>Abilene Christian</td>\n",
       "      <td>31</td>\n",
       "      <td>13</td>\n",
       "      <td>18</td>\n",
       "      <td>0.419</td>\n",
       "      <td>-13.93</td>\n",
       "      <td>-7.53</td>\n",
       "      <td>2209</td>\n",
       "      <td>771</td>\n",
       "      <td>...</td>\n",
       "      <td>570</td>\n",
       "      <td>0.367</td>\n",
       "      <td>458</td>\n",
       "      <td>653</td>\n",
       "      <td>0.701</td>\n",
       "      <td>422</td>\n",
       "      <td>233</td>\n",
       "      <td>78</td>\n",
       "      <td>2017</td>\n",
       "      <td>1101_2017</td>\n",
       "    </tr>\n",
       "    <tr>\n",
       "      <th>3</th>\n",
       "      <td>1102</td>\n",
       "      <td>Air Force</td>\n",
       "      <td>28</td>\n",
       "      <td>9</td>\n",
       "      <td>19</td>\n",
       "      <td>0.321</td>\n",
       "      <td>-7.45</td>\n",
       "      <td>2.05</td>\n",
       "      <td>1833</td>\n",
       "      <td>644</td>\n",
       "      <td>...</td>\n",
       "      <td>434</td>\n",
       "      <td>0.313</td>\n",
       "      <td>409</td>\n",
       "      <td>584</td>\n",
       "      <td>0.700</td>\n",
       "      <td>285</td>\n",
       "      <td>178</td>\n",
       "      <td>109</td>\n",
       "      <td>1994</td>\n",
       "      <td>1102_1994</td>\n",
       "    </tr>\n",
       "    <tr>\n",
       "      <th>4</th>\n",
       "      <td>1102</td>\n",
       "      <td>Air Force</td>\n",
       "      <td>26</td>\n",
       "      <td>8</td>\n",
       "      <td>18</td>\n",
       "      <td>0.308</td>\n",
       "      <td>-6.27</td>\n",
       "      <td>2.41</td>\n",
       "      <td>1813</td>\n",
       "      <td>613</td>\n",
       "      <td>...</td>\n",
       "      <td>420</td>\n",
       "      <td>0.338</td>\n",
       "      <td>445</td>\n",
       "      <td>630</td>\n",
       "      <td>0.706</td>\n",
       "      <td>281</td>\n",
       "      <td>168</td>\n",
       "      <td>111</td>\n",
       "      <td>1995</td>\n",
       "      <td>1102_1995</td>\n",
       "    </tr>\n",
       "  </tbody>\n",
       "</table>\n",
       "<p>5 rows × 23 columns</p>\n",
       "</div>"
      ],
      "text/plain": [
       "   TeamID           TeamName   G   W   L   W-L%    SRS   SOS  Points for   FG  \\\n",
       "0    1101  Abilene Christian  31  11  20  0.355 -19.60 -4.12        2214  737   \n",
       "1    1101  Abilene Christian  31  10  21  0.323 -17.20 -6.34        1976  695   \n",
       "2    1101  Abilene Christian  31  13  18  0.419 -13.93 -7.53        2209  771   \n",
       "3    1102          Air Force  28   9  19  0.321  -7.45  2.05        1833  644   \n",
       "4    1102          Air Force  26   8  18  0.308  -6.27  2.41        1813  613   \n",
       "\n",
       "       ...       3PA    3P%   FT  FTA    FT%  AST  STL  BLK  Year  \\\n",
       "0      ...       599  0.402  499  666  0.749  402  221   72  2015   \n",
       "1      ...       610  0.380  354  487  0.727  394  203   38  2016   \n",
       "2      ...       570  0.367  458  653  0.701  422  233   78  2017   \n",
       "3      ...       434  0.313  409  584  0.700  285  178  109  1994   \n",
       "4      ...       420  0.338  445  630  0.706  281  168  111  1995   \n",
       "\n",
       "   TeamSeasonId  \n",
       "0     1101_2015  \n",
       "1     1101_2016  \n",
       "2     1101_2017  \n",
       "3     1102_1994  \n",
       "4     1102_1995  \n",
       "\n",
       "[5 rows x 23 columns]"
      ]
     },
     "execution_count": 12,
     "metadata": {},
     "output_type": "execute_result"
    }
   ],
   "source": [
    "df_regular_season_data.head()"
   ]
  },
  {
   "cell_type": "markdown",
   "metadata": {},
   "source": [
    "#### Seed Metadata"
   ]
  },
  {
   "cell_type": "code",
   "execution_count": 13,
   "metadata": {},
   "outputs": [],
   "source": [
    "# df_regular_season_data = pd.merge(left=df_seeds, right=df_regular_season_data, how='inner', on='TeamSeasonId')\n",
    "\n",
    "# df_regular_season_data.shape"
   ]
  },
  {
   "cell_type": "code",
   "execution_count": 14,
   "metadata": {},
   "outputs": [],
   "source": [
    "# df_regular_season_data['WLSOS'] = df_regular_season_data['W-L%'] * df_regular_season_data['SOS']\n",
    "# df_regular_season_data = df_regular_season_data.drop(['W-L%', 'SOS'], axis=1)"
   ]
  },
  {
   "cell_type": "code",
   "execution_count": 15,
   "metadata": {},
   "outputs": [
    {
     "data": {
      "text/html": [
       "<div>\n",
       "<style scoped>\n",
       "    .dataframe tbody tr th:only-of-type {\n",
       "        vertical-align: middle;\n",
       "    }\n",
       "\n",
       "    .dataframe tbody tr th {\n",
       "        vertical-align: top;\n",
       "    }\n",
       "\n",
       "    .dataframe thead th {\n",
       "        text-align: right;\n",
       "    }\n",
       "</style>\n",
       "<table border=\"1\" class=\"dataframe\">\n",
       "  <thead>\n",
       "    <tr style=\"text-align: right;\">\n",
       "      <th></th>\n",
       "      <th>TeamID</th>\n",
       "      <th>TeamName</th>\n",
       "      <th>G</th>\n",
       "      <th>W</th>\n",
       "      <th>L</th>\n",
       "      <th>W-L%</th>\n",
       "      <th>SRS</th>\n",
       "      <th>SOS</th>\n",
       "      <th>Points for</th>\n",
       "      <th>FG</th>\n",
       "      <th>...</th>\n",
       "      <th>3PA</th>\n",
       "      <th>3P%</th>\n",
       "      <th>FT</th>\n",
       "      <th>FTA</th>\n",
       "      <th>FT%</th>\n",
       "      <th>AST</th>\n",
       "      <th>STL</th>\n",
       "      <th>BLK</th>\n",
       "      <th>Year</th>\n",
       "      <th>TeamSeasonId</th>\n",
       "    </tr>\n",
       "  </thead>\n",
       "  <tbody>\n",
       "    <tr>\n",
       "      <th>0</th>\n",
       "      <td>1101</td>\n",
       "      <td>Abilene Christian</td>\n",
       "      <td>31</td>\n",
       "      <td>11</td>\n",
       "      <td>20</td>\n",
       "      <td>0.355</td>\n",
       "      <td>-19.60</td>\n",
       "      <td>-4.12</td>\n",
       "      <td>2214</td>\n",
       "      <td>737</td>\n",
       "      <td>...</td>\n",
       "      <td>599</td>\n",
       "      <td>0.402</td>\n",
       "      <td>499</td>\n",
       "      <td>666</td>\n",
       "      <td>0.749</td>\n",
       "      <td>402</td>\n",
       "      <td>221</td>\n",
       "      <td>72</td>\n",
       "      <td>2015</td>\n",
       "      <td>1101_2015</td>\n",
       "    </tr>\n",
       "    <tr>\n",
       "      <th>1</th>\n",
       "      <td>1101</td>\n",
       "      <td>Abilene Christian</td>\n",
       "      <td>31</td>\n",
       "      <td>10</td>\n",
       "      <td>21</td>\n",
       "      <td>0.323</td>\n",
       "      <td>-17.20</td>\n",
       "      <td>-6.34</td>\n",
       "      <td>1976</td>\n",
       "      <td>695</td>\n",
       "      <td>...</td>\n",
       "      <td>610</td>\n",
       "      <td>0.380</td>\n",
       "      <td>354</td>\n",
       "      <td>487</td>\n",
       "      <td>0.727</td>\n",
       "      <td>394</td>\n",
       "      <td>203</td>\n",
       "      <td>38</td>\n",
       "      <td>2016</td>\n",
       "      <td>1101_2016</td>\n",
       "    </tr>\n",
       "    <tr>\n",
       "      <th>2</th>\n",
       "      <td>1101</td>\n",
       "      <td>Abilene Christian</td>\n",
       "      <td>31</td>\n",
       "      <td>13</td>\n",
       "      <td>18</td>\n",
       "      <td>0.419</td>\n",
       "      <td>-13.93</td>\n",
       "      <td>-7.53</td>\n",
       "      <td>2209</td>\n",
       "      <td>771</td>\n",
       "      <td>...</td>\n",
       "      <td>570</td>\n",
       "      <td>0.367</td>\n",
       "      <td>458</td>\n",
       "      <td>653</td>\n",
       "      <td>0.701</td>\n",
       "      <td>422</td>\n",
       "      <td>233</td>\n",
       "      <td>78</td>\n",
       "      <td>2017</td>\n",
       "      <td>1101_2017</td>\n",
       "    </tr>\n",
       "    <tr>\n",
       "      <th>3</th>\n",
       "      <td>1102</td>\n",
       "      <td>Air Force</td>\n",
       "      <td>28</td>\n",
       "      <td>9</td>\n",
       "      <td>19</td>\n",
       "      <td>0.321</td>\n",
       "      <td>-7.45</td>\n",
       "      <td>2.05</td>\n",
       "      <td>1833</td>\n",
       "      <td>644</td>\n",
       "      <td>...</td>\n",
       "      <td>434</td>\n",
       "      <td>0.313</td>\n",
       "      <td>409</td>\n",
       "      <td>584</td>\n",
       "      <td>0.700</td>\n",
       "      <td>285</td>\n",
       "      <td>178</td>\n",
       "      <td>109</td>\n",
       "      <td>1994</td>\n",
       "      <td>1102_1994</td>\n",
       "    </tr>\n",
       "    <tr>\n",
       "      <th>4</th>\n",
       "      <td>1102</td>\n",
       "      <td>Air Force</td>\n",
       "      <td>26</td>\n",
       "      <td>8</td>\n",
       "      <td>18</td>\n",
       "      <td>0.308</td>\n",
       "      <td>-6.27</td>\n",
       "      <td>2.41</td>\n",
       "      <td>1813</td>\n",
       "      <td>613</td>\n",
       "      <td>...</td>\n",
       "      <td>420</td>\n",
       "      <td>0.338</td>\n",
       "      <td>445</td>\n",
       "      <td>630</td>\n",
       "      <td>0.706</td>\n",
       "      <td>281</td>\n",
       "      <td>168</td>\n",
       "      <td>111</td>\n",
       "      <td>1995</td>\n",
       "      <td>1102_1995</td>\n",
       "    </tr>\n",
       "  </tbody>\n",
       "</table>\n",
       "<p>5 rows × 23 columns</p>\n",
       "</div>"
      ],
      "text/plain": [
       "   TeamID           TeamName   G   W   L   W-L%    SRS   SOS  Points for   FG  \\\n",
       "0    1101  Abilene Christian  31  11  20  0.355 -19.60 -4.12        2214  737   \n",
       "1    1101  Abilene Christian  31  10  21  0.323 -17.20 -6.34        1976  695   \n",
       "2    1101  Abilene Christian  31  13  18  0.419 -13.93 -7.53        2209  771   \n",
       "3    1102          Air Force  28   9  19  0.321  -7.45  2.05        1833  644   \n",
       "4    1102          Air Force  26   8  18  0.308  -6.27  2.41        1813  613   \n",
       "\n",
       "       ...       3PA    3P%   FT  FTA    FT%  AST  STL  BLK  Year  \\\n",
       "0      ...       599  0.402  499  666  0.749  402  221   72  2015   \n",
       "1      ...       610  0.380  354  487  0.727  394  203   38  2016   \n",
       "2      ...       570  0.367  458  653  0.701  422  233   78  2017   \n",
       "3      ...       434  0.313  409  584  0.700  285  178  109  1994   \n",
       "4      ...       420  0.338  445  630  0.706  281  168  111  1995   \n",
       "\n",
       "   TeamSeasonId  \n",
       "0     1101_2015  \n",
       "1     1101_2016  \n",
       "2     1101_2017  \n",
       "3     1102_1994  \n",
       "4     1102_1995  \n",
       "\n",
       "[5 rows x 23 columns]"
      ]
     },
     "execution_count": 15,
     "metadata": {},
     "output_type": "execute_result"
    }
   ],
   "source": [
    "df_regular_season_data.head()"
   ]
  },
  {
   "cell_type": "markdown",
   "metadata": {},
   "source": [
    "## Game Data\n",
    "### Tourney Results"
   ]
  },
  {
   "cell_type": "code",
   "execution_count": 16,
   "metadata": {},
   "outputs": [
    {
     "data": {
      "text/html": [
       "<div>\n",
       "<style scoped>\n",
       "    .dataframe tbody tr th:only-of-type {\n",
       "        vertical-align: middle;\n",
       "    }\n",
       "\n",
       "    .dataframe tbody tr th {\n",
       "        vertical-align: top;\n",
       "    }\n",
       "\n",
       "    .dataframe thead th {\n",
       "        text-align: right;\n",
       "    }\n",
       "</style>\n",
       "<table border=\"1\" class=\"dataframe\">\n",
       "  <thead>\n",
       "    <tr style=\"text-align: right;\">\n",
       "      <th></th>\n",
       "      <th>Season</th>\n",
       "      <th>DayNum</th>\n",
       "      <th>GameID</th>\n",
       "      <th>TeamA_ID</th>\n",
       "      <th>TeamB_ID</th>\n",
       "      <th>ScoreDiff</th>\n",
       "    </tr>\n",
       "  </thead>\n",
       "  <tbody>\n",
       "    <tr>\n",
       "      <th>0</th>\n",
       "      <td>1985</td>\n",
       "      <td>136</td>\n",
       "      <td>1985_1116_1234</td>\n",
       "      <td>1116_1985</td>\n",
       "      <td>1234_1985</td>\n",
       "      <td>9</td>\n",
       "    </tr>\n",
       "    <tr>\n",
       "      <th>1</th>\n",
       "      <td>1985</td>\n",
       "      <td>136</td>\n",
       "      <td>1985_1120_1345</td>\n",
       "      <td>1120_1985</td>\n",
       "      <td>1345_1985</td>\n",
       "      <td>1</td>\n",
       "    </tr>\n",
       "    <tr>\n",
       "      <th>2</th>\n",
       "      <td>1985</td>\n",
       "      <td>136</td>\n",
       "      <td>1985_1207_1250</td>\n",
       "      <td>1207_1985</td>\n",
       "      <td>1250_1985</td>\n",
       "      <td>25</td>\n",
       "    </tr>\n",
       "    <tr>\n",
       "      <th>3</th>\n",
       "      <td>1985</td>\n",
       "      <td>136</td>\n",
       "      <td>1985_1229_1425</td>\n",
       "      <td>1229_1985</td>\n",
       "      <td>1425_1985</td>\n",
       "      <td>3</td>\n",
       "    </tr>\n",
       "    <tr>\n",
       "      <th>4</th>\n",
       "      <td>1985</td>\n",
       "      <td>136</td>\n",
       "      <td>1985_1242_1325</td>\n",
       "      <td>1242_1985</td>\n",
       "      <td>1325_1985</td>\n",
       "      <td>11</td>\n",
       "    </tr>\n",
       "  </tbody>\n",
       "</table>\n",
       "</div>"
      ],
      "text/plain": [
       "   Season  DayNum          GameID   TeamA_ID   TeamB_ID  ScoreDiff\n",
       "0    1985     136  1985_1116_1234  1116_1985  1234_1985          9\n",
       "1    1985     136  1985_1120_1345  1120_1985  1345_1985          1\n",
       "2    1985     136  1985_1207_1250  1207_1985  1250_1985         25\n",
       "3    1985     136  1985_1229_1425  1229_1985  1425_1985          3\n",
       "4    1985     136  1985_1242_1325  1242_1985  1325_1985         11"
      ]
     },
     "execution_count": 16,
     "metadata": {},
     "output_type": "execute_result"
    }
   ],
   "source": [
    "# Read from CSV\n",
    "df_game_results = pd.read_csv(tourney_results_csv)\n",
    "df_game_results.drop(labels=['WLoc', 'NumOT'], inplace=True, axis=1)\n",
    "\n",
    "# Create unique keys\n",
    "df_game_results['GameID'] = create_key_from_fields(df_game_results['Season'], df_game_results['WTeamID'], df_game_results['LTeamID'])\n",
    "df_game_results['TeamA_ID'] = create_key_from_fields(df_game_results['WTeamID'], df_game_results['Season'])\n",
    "df_game_results['TeamB_ID'] = create_key_from_fields(df_game_results['LTeamID'], df_game_results['Season'])\n",
    "df_game_results.drop(labels=['WTeamID', 'LTeamID'], inplace=True, axis=1)\n",
    "\n",
    "# Create difference in score\n",
    "df_game_results['ScoreDiff'] = df_game_results.WScore - df_game_results.LScore\n",
    "df_game_results.drop(labels=['WScore', 'LScore'], inplace=True, axis=1)\n",
    "\n",
    "df_game_results.head()"
   ]
  },
  {
   "cell_type": "code",
   "execution_count": 17,
   "metadata": {},
   "outputs": [
    {
     "data": {
      "text/plain": [
       "(2117, 6)"
      ]
     },
     "execution_count": 17,
     "metadata": {},
     "output_type": "execute_result"
    }
   ],
   "source": [
    "df_game_results.shape"
   ]
  },
  {
   "cell_type": "markdown",
   "metadata": {},
   "source": [
    "### Tourney Rounds/Seeds"
   ]
  },
  {
   "cell_type": "code",
   "execution_count": 18,
   "metadata": {},
   "outputs": [
    {
     "data": {
      "text/html": [
       "<div>\n",
       "<style scoped>\n",
       "    .dataframe tbody tr th:only-of-type {\n",
       "        vertical-align: middle;\n",
       "    }\n",
       "\n",
       "    .dataframe tbody tr th {\n",
       "        vertical-align: top;\n",
       "    }\n",
       "\n",
       "    .dataframe thead th {\n",
       "        text-align: right;\n",
       "    }\n",
       "</style>\n",
       "<table border=\"1\" class=\"dataframe\">\n",
       "  <thead>\n",
       "    <tr style=\"text-align: right;\">\n",
       "      <th></th>\n",
       "      <th>Seed</th>\n",
       "      <th>GameRound</th>\n",
       "      <th>GameSlot</th>\n",
       "      <th>EarlyDayNum</th>\n",
       "      <th>LateDayNum</th>\n",
       "    </tr>\n",
       "  </thead>\n",
       "  <tbody>\n",
       "    <tr>\n",
       "      <th>0</th>\n",
       "      <td>W01</td>\n",
       "      <td>1</td>\n",
       "      <td>R1W1</td>\n",
       "      <td>136</td>\n",
       "      <td>137</td>\n",
       "    </tr>\n",
       "    <tr>\n",
       "      <th>1</th>\n",
       "      <td>W01</td>\n",
       "      <td>2</td>\n",
       "      <td>R2W1</td>\n",
       "      <td>138</td>\n",
       "      <td>139</td>\n",
       "    </tr>\n",
       "    <tr>\n",
       "      <th>2</th>\n",
       "      <td>W01</td>\n",
       "      <td>3</td>\n",
       "      <td>R3W1</td>\n",
       "      <td>143</td>\n",
       "      <td>144</td>\n",
       "    </tr>\n",
       "    <tr>\n",
       "      <th>3</th>\n",
       "      <td>W01</td>\n",
       "      <td>4</td>\n",
       "      <td>R4W1</td>\n",
       "      <td>145</td>\n",
       "      <td>146</td>\n",
       "    </tr>\n",
       "    <tr>\n",
       "      <th>4</th>\n",
       "      <td>W01</td>\n",
       "      <td>5</td>\n",
       "      <td>R5WX</td>\n",
       "      <td>152</td>\n",
       "      <td>152</td>\n",
       "    </tr>\n",
       "  </tbody>\n",
       "</table>\n",
       "</div>"
      ],
      "text/plain": [
       "  Seed  GameRound GameSlot  EarlyDayNum  LateDayNum\n",
       "0  W01          1     R1W1          136         137\n",
       "1  W01          2     R2W1          138         139\n",
       "2  W01          3     R3W1          143         144\n",
       "3  W01          4     R4W1          145         146\n",
       "4  W01          5     R5WX          152         152"
      ]
     },
     "execution_count": 18,
     "metadata": {},
     "output_type": "execute_result"
    }
   ],
   "source": [
    "df_rounds = pd.read_csv(tourney_rounds_csv)\n",
    "df_rounds.head()"
   ]
  },
  {
   "cell_type": "code",
   "execution_count": 19,
   "metadata": {},
   "outputs": [
    {
     "data": {
      "text/html": [
       "<div>\n",
       "<style scoped>\n",
       "    .dataframe tbody tr th:only-of-type {\n",
       "        vertical-align: middle;\n",
       "    }\n",
       "\n",
       "    .dataframe tbody tr th {\n",
       "        vertical-align: top;\n",
       "    }\n",
       "\n",
       "    .dataframe thead th {\n",
       "        text-align: right;\n",
       "    }\n",
       "</style>\n",
       "<table border=\"1\" class=\"dataframe\">\n",
       "  <thead>\n",
       "    <tr style=\"text-align: right;\">\n",
       "      <th></th>\n",
       "      <th>Seed</th>\n",
       "      <th>TeamSeasonId</th>\n",
       "    </tr>\n",
       "  </thead>\n",
       "  <tbody>\n",
       "    <tr>\n",
       "      <th>0</th>\n",
       "      <td>W01</td>\n",
       "      <td>1207_1985</td>\n",
       "    </tr>\n",
       "    <tr>\n",
       "      <th>1</th>\n",
       "      <td>W02</td>\n",
       "      <td>1210_1985</td>\n",
       "    </tr>\n",
       "    <tr>\n",
       "      <th>2</th>\n",
       "      <td>W03</td>\n",
       "      <td>1228_1985</td>\n",
       "    </tr>\n",
       "    <tr>\n",
       "      <th>3</th>\n",
       "      <td>W04</td>\n",
       "      <td>1260_1985</td>\n",
       "    </tr>\n",
       "    <tr>\n",
       "      <th>4</th>\n",
       "      <td>W05</td>\n",
       "      <td>1374_1985</td>\n",
       "    </tr>\n",
       "  </tbody>\n",
       "</table>\n",
       "</div>"
      ],
      "text/plain": [
       "  Seed TeamSeasonId\n",
       "0  W01    1207_1985\n",
       "1  W02    1210_1985\n",
       "2  W03    1228_1985\n",
       "3  W04    1260_1985\n",
       "4  W05    1374_1985"
      ]
     },
     "execution_count": 19,
     "metadata": {},
     "output_type": "execute_result"
    }
   ],
   "source": [
    "df_seeds = pd.read_csv(tourney_seeds_csv)\n",
    "# df_seeds = parse_seed(df_seeds)\n",
    "df_seeds['TeamSeasonId'] = create_key_from_fields(df_seeds['TeamID'], df_seeds['Season'])\n",
    "df_seeds = df_seeds.drop(['TeamID', 'Season'], axis=1)\n",
    "\n",
    "df_seeds.head()"
   ]
  },
  {
   "cell_type": "code",
   "execution_count": 20,
   "metadata": {},
   "outputs": [
    {
     "data": {
      "text/html": [
       "<div>\n",
       "<style scoped>\n",
       "    .dataframe tbody tr th:only-of-type {\n",
       "        vertical-align: middle;\n",
       "    }\n",
       "\n",
       "    .dataframe tbody tr th {\n",
       "        vertical-align: top;\n",
       "    }\n",
       "\n",
       "    .dataframe thead th {\n",
       "        text-align: right;\n",
       "    }\n",
       "</style>\n",
       "<table border=\"1\" class=\"dataframe\">\n",
       "  <thead>\n",
       "    <tr style=\"text-align: right;\">\n",
       "      <th></th>\n",
       "      <th>Season</th>\n",
       "      <th>DayNum</th>\n",
       "      <th>GameID</th>\n",
       "      <th>TeamA_ID</th>\n",
       "      <th>TeamB_ID</th>\n",
       "      <th>ScoreDiff</th>\n",
       "      <th>Seed_x</th>\n",
       "      <th>Seed_y</th>\n",
       "    </tr>\n",
       "  </thead>\n",
       "  <tbody>\n",
       "    <tr>\n",
       "      <th>0</th>\n",
       "      <td>1985</td>\n",
       "      <td>136</td>\n",
       "      <td>1985_1116_1234</td>\n",
       "      <td>1116_1985</td>\n",
       "      <td>1234_1985</td>\n",
       "      <td>9</td>\n",
       "      <td>X09</td>\n",
       "      <td>X08</td>\n",
       "    </tr>\n",
       "    <tr>\n",
       "      <th>1</th>\n",
       "      <td>1985</td>\n",
       "      <td>136</td>\n",
       "      <td>1985_1120_1345</td>\n",
       "      <td>1120_1985</td>\n",
       "      <td>1345_1985</td>\n",
       "      <td>1</td>\n",
       "      <td>Z11</td>\n",
       "      <td>Z06</td>\n",
       "    </tr>\n",
       "    <tr>\n",
       "      <th>2</th>\n",
       "      <td>1985</td>\n",
       "      <td>138</td>\n",
       "      <td>1985_1120_1242</td>\n",
       "      <td>1120_1985</td>\n",
       "      <td>1242_1985</td>\n",
       "      <td>2</td>\n",
       "      <td>Z11</td>\n",
       "      <td>Z03</td>\n",
       "    </tr>\n",
       "    <tr>\n",
       "      <th>3</th>\n",
       "      <td>1985</td>\n",
       "      <td>136</td>\n",
       "      <td>1985_1207_1250</td>\n",
       "      <td>1207_1985</td>\n",
       "      <td>1250_1985</td>\n",
       "      <td>25</td>\n",
       "      <td>W01</td>\n",
       "      <td>W16</td>\n",
       "    </tr>\n",
       "    <tr>\n",
       "      <th>4</th>\n",
       "      <td>1985</td>\n",
       "      <td>138</td>\n",
       "      <td>1985_1207_1396</td>\n",
       "      <td>1207_1985</td>\n",
       "      <td>1396_1985</td>\n",
       "      <td>17</td>\n",
       "      <td>W01</td>\n",
       "      <td>W08</td>\n",
       "    </tr>\n",
       "  </tbody>\n",
       "</table>\n",
       "</div>"
      ],
      "text/plain": [
       "   Season  DayNum          GameID   TeamA_ID   TeamB_ID  ScoreDiff Seed_x  \\\n",
       "0    1985     136  1985_1116_1234  1116_1985  1234_1985          9    X09   \n",
       "1    1985     136  1985_1120_1345  1120_1985  1345_1985          1    Z11   \n",
       "2    1985     138  1985_1120_1242  1120_1985  1242_1985          2    Z11   \n",
       "3    1985     136  1985_1207_1250  1207_1985  1250_1985         25    W01   \n",
       "4    1985     138  1985_1207_1396  1207_1985  1396_1985         17    W01   \n",
       "\n",
       "  Seed_y  \n",
       "0    X08  \n",
       "1    Z06  \n",
       "2    Z03  \n",
       "3    W16  \n",
       "4    W08  "
      ]
     },
     "execution_count": 20,
     "metadata": {},
     "output_type": "execute_result"
    }
   ],
   "source": [
    "df_game_results = pd.merge(left=df_game_results, right=df_seeds, how='inner', left_on=['TeamA_ID'], right_on=['TeamSeasonId'])\n",
    "df_game_results.drop(labels=['TeamSeasonId'], inplace=True, axis=1)\n",
    "\n",
    "df_game_results = pd.merge(left=df_game_results, right=df_seeds, how='inner', left_on=['TeamB_ID'], right_on=['TeamSeasonId'])\n",
    "df_game_results.drop(labels=['TeamSeasonId'], inplace=True, axis=1)\n",
    "\n",
    "\n",
    "df_game_results.head()"
   ]
  },
  {
   "cell_type": "code",
   "execution_count": 21,
   "metadata": {},
   "outputs": [
    {
     "data": {
      "text/plain": [
       "(2117, 8)"
      ]
     },
     "execution_count": 21,
     "metadata": {},
     "output_type": "execute_result"
    }
   ],
   "source": [
    "df_a = pd.merge(left=df_game_results, right=df_rounds, how='inner', left_on=['DayNum', 'Seed_x'], right_on=['EarlyDayNum', 'Seed'])\n",
    "df_a.drop(labels=['GameSlot', 'EarlyDayNum', 'LateDayNum', 'Seed', 'DayNum'], inplace=True, axis=1)\n",
    "\n",
    "df_b = pd.merge(left=df_game_results, right=df_rounds, how='inner', left_on=['DayNum', 'Seed_x'], right_on=['LateDayNum', 'Seed'])\n",
    "df_b.drop(labels=['GameSlot', 'EarlyDayNum', 'LateDayNum', 'Seed', 'DayNum'], inplace=True, axis=1)\n",
    "\n",
    "df_c = df_a[~df_a[\"GameID\"].isin(df_b[\"GameID\"])].copy()\n",
    "\n",
    "df_game_results = pd.concat([df_b, df_c], sort=False)\n",
    "\n",
    "df_game_results.shape"
   ]
  },
  {
   "cell_type": "code",
   "execution_count": 22,
   "metadata": {},
   "outputs": [
    {
     "data": {
      "text/html": [
       "<div>\n",
       "<style scoped>\n",
       "    .dataframe tbody tr th:only-of-type {\n",
       "        vertical-align: middle;\n",
       "    }\n",
       "\n",
       "    .dataframe tbody tr th {\n",
       "        vertical-align: top;\n",
       "    }\n",
       "\n",
       "    .dataframe thead th {\n",
       "        text-align: right;\n",
       "    }\n",
       "</style>\n",
       "<table border=\"1\" class=\"dataframe\">\n",
       "  <thead>\n",
       "    <tr style=\"text-align: right;\">\n",
       "      <th></th>\n",
       "      <th>Season</th>\n",
       "      <th>GameID</th>\n",
       "      <th>TeamA_ID</th>\n",
       "      <th>TeamB_ID</th>\n",
       "      <th>ScoreDiff</th>\n",
       "      <th>Seed_x</th>\n",
       "      <th>Seed_y</th>\n",
       "      <th>GameRound</th>\n",
       "    </tr>\n",
       "  </thead>\n",
       "  <tbody>\n",
       "    <tr>\n",
       "      <th>0</th>\n",
       "      <td>1985</td>\n",
       "      <td>1985_1207_1385</td>\n",
       "      <td>1207_1985</td>\n",
       "      <td>1385_1985</td>\n",
       "      <td>18</td>\n",
       "      <td>W01</td>\n",
       "      <td>X01</td>\n",
       "      <td>5</td>\n",
       "    </tr>\n",
       "    <tr>\n",
       "      <th>1</th>\n",
       "      <td>1986</td>\n",
       "      <td>1986_1181_1242</td>\n",
       "      <td>1181_1986</td>\n",
       "      <td>1242_1986</td>\n",
       "      <td>4</td>\n",
       "      <td>W01</td>\n",
       "      <td>X01</td>\n",
       "      <td>5</td>\n",
       "    </tr>\n",
       "    <tr>\n",
       "      <th>2</th>\n",
       "      <td>1992</td>\n",
       "      <td>1992_1181_1231</td>\n",
       "      <td>1181_1992</td>\n",
       "      <td>1231_1992</td>\n",
       "      <td>3</td>\n",
       "      <td>W01</td>\n",
       "      <td>X02</td>\n",
       "      <td>5</td>\n",
       "    </tr>\n",
       "    <tr>\n",
       "      <th>3</th>\n",
       "      <td>1993</td>\n",
       "      <td>1993_1314_1242</td>\n",
       "      <td>1314_1993</td>\n",
       "      <td>1242_1993</td>\n",
       "      <td>10</td>\n",
       "      <td>W01</td>\n",
       "      <td>X02</td>\n",
       "      <td>5</td>\n",
       "    </tr>\n",
       "    <tr>\n",
       "      <th>4</th>\n",
       "      <td>1999</td>\n",
       "      <td>1999_1181_1277</td>\n",
       "      <td>1181_1999</td>\n",
       "      <td>1277_1999</td>\n",
       "      <td>6</td>\n",
       "      <td>W01</td>\n",
       "      <td>X01</td>\n",
       "      <td>5</td>\n",
       "    </tr>\n",
       "  </tbody>\n",
       "</table>\n",
       "</div>"
      ],
      "text/plain": [
       "   Season          GameID   TeamA_ID   TeamB_ID  ScoreDiff Seed_x Seed_y  \\\n",
       "0    1985  1985_1207_1385  1207_1985  1385_1985         18    W01    X01   \n",
       "1    1986  1986_1181_1242  1181_1986  1242_1986          4    W01    X01   \n",
       "2    1992  1992_1181_1231  1181_1992  1231_1992          3    W01    X02   \n",
       "3    1993  1993_1314_1242  1314_1993  1242_1993         10    W01    X02   \n",
       "4    1999  1999_1181_1277  1181_1999  1277_1999          6    W01    X01   \n",
       "\n",
       "   GameRound  \n",
       "0          5  \n",
       "1          5  \n",
       "2          5  \n",
       "3          5  \n",
       "4          5  "
      ]
     },
     "execution_count": 22,
     "metadata": {},
     "output_type": "execute_result"
    }
   ],
   "source": [
    "df_game_results.head()"
   ]
  },
  {
   "cell_type": "code",
   "execution_count": 23,
   "metadata": {},
   "outputs": [
    {
     "data": {
      "text/html": [
       "<div>\n",
       "<style scoped>\n",
       "    .dataframe tbody tr th:only-of-type {\n",
       "        vertical-align: middle;\n",
       "    }\n",
       "\n",
       "    .dataframe tbody tr th {\n",
       "        vertical-align: top;\n",
       "    }\n",
       "\n",
       "    .dataframe thead th {\n",
       "        text-align: right;\n",
       "    }\n",
       "</style>\n",
       "<table border=\"1\" class=\"dataframe\">\n",
       "  <thead>\n",
       "    <tr style=\"text-align: right;\">\n",
       "      <th></th>\n",
       "      <th>Season</th>\n",
       "      <th>GameID</th>\n",
       "      <th>TeamA_ID</th>\n",
       "      <th>TeamB_ID</th>\n",
       "      <th>ScoreDiff</th>\n",
       "      <th>GameRound</th>\n",
       "      <th>Seed_int_x</th>\n",
       "      <th>Seed_int_y</th>\n",
       "    </tr>\n",
       "  </thead>\n",
       "  <tbody>\n",
       "    <tr>\n",
       "      <th>0</th>\n",
       "      <td>1985</td>\n",
       "      <td>1985_1207_1385</td>\n",
       "      <td>1207_1985</td>\n",
       "      <td>1385_1985</td>\n",
       "      <td>18</td>\n",
       "      <td>5</td>\n",
       "      <td>1</td>\n",
       "      <td>1</td>\n",
       "    </tr>\n",
       "    <tr>\n",
       "      <th>1</th>\n",
       "      <td>1986</td>\n",
       "      <td>1986_1181_1242</td>\n",
       "      <td>1181_1986</td>\n",
       "      <td>1242_1986</td>\n",
       "      <td>4</td>\n",
       "      <td>5</td>\n",
       "      <td>1</td>\n",
       "      <td>1</td>\n",
       "    </tr>\n",
       "    <tr>\n",
       "      <th>2</th>\n",
       "      <td>1992</td>\n",
       "      <td>1992_1181_1231</td>\n",
       "      <td>1181_1992</td>\n",
       "      <td>1231_1992</td>\n",
       "      <td>3</td>\n",
       "      <td>5</td>\n",
       "      <td>1</td>\n",
       "      <td>2</td>\n",
       "    </tr>\n",
       "    <tr>\n",
       "      <th>3</th>\n",
       "      <td>1993</td>\n",
       "      <td>1993_1314_1242</td>\n",
       "      <td>1314_1993</td>\n",
       "      <td>1242_1993</td>\n",
       "      <td>10</td>\n",
       "      <td>5</td>\n",
       "      <td>1</td>\n",
       "      <td>2</td>\n",
       "    </tr>\n",
       "    <tr>\n",
       "      <th>4</th>\n",
       "      <td>1999</td>\n",
       "      <td>1999_1181_1277</td>\n",
       "      <td>1181_1999</td>\n",
       "      <td>1277_1999</td>\n",
       "      <td>6</td>\n",
       "      <td>5</td>\n",
       "      <td>1</td>\n",
       "      <td>1</td>\n",
       "    </tr>\n",
       "  </tbody>\n",
       "</table>\n",
       "</div>"
      ],
      "text/plain": [
       "   Season          GameID   TeamA_ID   TeamB_ID  ScoreDiff  GameRound  \\\n",
       "0    1985  1985_1207_1385  1207_1985  1385_1985         18          5   \n",
       "1    1986  1986_1181_1242  1181_1986  1242_1986          4          5   \n",
       "2    1992  1992_1181_1231  1181_1992  1231_1992          3          5   \n",
       "3    1993  1993_1314_1242  1314_1993  1242_1993         10          5   \n",
       "4    1999  1999_1181_1277  1181_1999  1277_1999          6          5   \n",
       "\n",
       "   Seed_int_x  Seed_int_y  \n",
       "0           1           1  \n",
       "1           1           1  \n",
       "2           1           2  \n",
       "3           1           2  \n",
       "4           1           1  "
      ]
     },
     "execution_count": 23,
     "metadata": {},
     "output_type": "execute_result"
    }
   ],
   "source": [
    "def parse_seed(df_seeds, orig_label, dest_label):\n",
    "    df_seeds[orig_label] = df_seeds[orig_label].str[1:3]\n",
    "    df_seeds[dest_label] = df_seeds[orig_label].apply(pd.to_numeric)\n",
    "    df_seeds.drop(labels=[orig_label], inplace=True, axis=1)\n",
    "    return df_seeds\n",
    "\n",
    "df_game_results = parse_seed(df_game_results, 'Seed_x', 'Seed_int_x')\n",
    "df_game_results = parse_seed(df_game_results, 'Seed_y', 'Seed_int_y')\n",
    "df_game_results.head()"
   ]
  },
  {
   "cell_type": "code",
   "execution_count": 24,
   "metadata": {},
   "outputs": [
    {
     "data": {
      "text/html": [
       "<div>\n",
       "<style scoped>\n",
       "    .dataframe tbody tr th:only-of-type {\n",
       "        vertical-align: middle;\n",
       "    }\n",
       "\n",
       "    .dataframe tbody tr th {\n",
       "        vertical-align: top;\n",
       "    }\n",
       "\n",
       "    .dataframe thead th {\n",
       "        text-align: right;\n",
       "    }\n",
       "</style>\n",
       "<table border=\"1\" class=\"dataframe\">\n",
       "  <thead>\n",
       "    <tr style=\"text-align: right;\">\n",
       "      <th></th>\n",
       "      <th>Season</th>\n",
       "      <th>GameID</th>\n",
       "      <th>TeamA_ID</th>\n",
       "      <th>TeamB_ID</th>\n",
       "      <th>ScoreDiff</th>\n",
       "      <th>GameRound</th>\n",
       "      <th>Seed_int_x</th>\n",
       "      <th>Seed_int_y</th>\n",
       "    </tr>\n",
       "  </thead>\n",
       "  <tbody>\n",
       "    <tr>\n",
       "      <th>0</th>\n",
       "      <td>1985</td>\n",
       "      <td>1985_1207_1385</td>\n",
       "      <td>1207_1985</td>\n",
       "      <td>1385_1985</td>\n",
       "      <td>-18</td>\n",
       "      <td>5</td>\n",
       "      <td>1</td>\n",
       "      <td>1</td>\n",
       "    </tr>\n",
       "    <tr>\n",
       "      <th>1</th>\n",
       "      <td>1986</td>\n",
       "      <td>1986_1181_1242</td>\n",
       "      <td>1181_1986</td>\n",
       "      <td>1242_1986</td>\n",
       "      <td>-4</td>\n",
       "      <td>5</td>\n",
       "      <td>1</td>\n",
       "      <td>1</td>\n",
       "    </tr>\n",
       "    <tr>\n",
       "      <th>2</th>\n",
       "      <td>1992</td>\n",
       "      <td>1992_1181_1231</td>\n",
       "      <td>1181_1992</td>\n",
       "      <td>1231_1992</td>\n",
       "      <td>-3</td>\n",
       "      <td>5</td>\n",
       "      <td>1</td>\n",
       "      <td>2</td>\n",
       "    </tr>\n",
       "    <tr>\n",
       "      <th>3</th>\n",
       "      <td>1993</td>\n",
       "      <td>1993_1314_1242</td>\n",
       "      <td>1314_1993</td>\n",
       "      <td>1242_1993</td>\n",
       "      <td>-10</td>\n",
       "      <td>5</td>\n",
       "      <td>1</td>\n",
       "      <td>2</td>\n",
       "    </tr>\n",
       "    <tr>\n",
       "      <th>4</th>\n",
       "      <td>1999</td>\n",
       "      <td>1999_1181_1277</td>\n",
       "      <td>1181_1999</td>\n",
       "      <td>1277_1999</td>\n",
       "      <td>-6</td>\n",
       "      <td>5</td>\n",
       "      <td>1</td>\n",
       "      <td>1</td>\n",
       "    </tr>\n",
       "  </tbody>\n",
       "</table>\n",
       "</div>"
      ],
      "text/plain": [
       "   Season          GameID   TeamA_ID   TeamB_ID  ScoreDiff  GameRound  \\\n",
       "0    1985  1985_1207_1385  1207_1985  1385_1985        -18          5   \n",
       "1    1986  1986_1181_1242  1181_1986  1242_1986         -4          5   \n",
       "2    1992  1992_1181_1231  1181_1992  1231_1992         -3          5   \n",
       "3    1993  1993_1314_1242  1314_1993  1242_1993        -10          5   \n",
       "4    1999  1999_1181_1277  1181_1999  1277_1999         -6          5   \n",
       "\n",
       "   Seed_int_x  Seed_int_y  \n",
       "0           1           1  \n",
       "1           1           1  \n",
       "2           1           2  \n",
       "3           1           2  \n",
       "4           1           1  "
      ]
     },
     "execution_count": 24,
     "metadata": {},
     "output_type": "execute_result"
    }
   ],
   "source": [
    "# Create mirror of score\n",
    "df_mirror = pd.DataFrame()\n",
    "for col, series in df_game_results.iteritems():\n",
    "    if col == 'ScoreDiff':\n",
    "        df_mirror[col] = -series\n",
    "    else:\n",
    "        df_mirror[col] = series\n",
    "\n",
    "df_mirror.head()"
   ]
  },
  {
   "cell_type": "code",
   "execution_count": 25,
   "metadata": {},
   "outputs": [
    {
     "data": {
      "text/html": [
       "<div>\n",
       "<style scoped>\n",
       "    .dataframe tbody tr th:only-of-type {\n",
       "        vertical-align: middle;\n",
       "    }\n",
       "\n",
       "    .dataframe tbody tr th {\n",
       "        vertical-align: top;\n",
       "    }\n",
       "\n",
       "    .dataframe thead th {\n",
       "        text-align: right;\n",
       "    }\n",
       "</style>\n",
       "<table border=\"1\" class=\"dataframe\">\n",
       "  <thead>\n",
       "    <tr style=\"text-align: right;\">\n",
       "      <th></th>\n",
       "      <th>Season</th>\n",
       "      <th>GameID</th>\n",
       "      <th>TeamA_ID</th>\n",
       "      <th>TeamB_ID</th>\n",
       "      <th>ScoreDiff</th>\n",
       "      <th>GameRound</th>\n",
       "      <th>Seed_int_x</th>\n",
       "      <th>Seed_int_y</th>\n",
       "    </tr>\n",
       "  </thead>\n",
       "  <tbody>\n",
       "    <tr>\n",
       "      <th>0</th>\n",
       "      <td>1985</td>\n",
       "      <td>1985_1207_1385_a</td>\n",
       "      <td>1207_1985</td>\n",
       "      <td>1385_1985</td>\n",
       "      <td>18</td>\n",
       "      <td>5</td>\n",
       "      <td>1</td>\n",
       "      <td>1</td>\n",
       "    </tr>\n",
       "    <tr>\n",
       "      <th>1</th>\n",
       "      <td>1986</td>\n",
       "      <td>1986_1181_1242_a</td>\n",
       "      <td>1181_1986</td>\n",
       "      <td>1242_1986</td>\n",
       "      <td>4</td>\n",
       "      <td>5</td>\n",
       "      <td>1</td>\n",
       "      <td>1</td>\n",
       "    </tr>\n",
       "    <tr>\n",
       "      <th>2</th>\n",
       "      <td>1992</td>\n",
       "      <td>1992_1181_1231_a</td>\n",
       "      <td>1181_1992</td>\n",
       "      <td>1231_1992</td>\n",
       "      <td>3</td>\n",
       "      <td>5</td>\n",
       "      <td>1</td>\n",
       "      <td>2</td>\n",
       "    </tr>\n",
       "    <tr>\n",
       "      <th>3</th>\n",
       "      <td>1993</td>\n",
       "      <td>1993_1314_1242_a</td>\n",
       "      <td>1314_1993</td>\n",
       "      <td>1242_1993</td>\n",
       "      <td>10</td>\n",
       "      <td>5</td>\n",
       "      <td>1</td>\n",
       "      <td>2</td>\n",
       "    </tr>\n",
       "    <tr>\n",
       "      <th>4</th>\n",
       "      <td>1999</td>\n",
       "      <td>1999_1181_1277_a</td>\n",
       "      <td>1181_1999</td>\n",
       "      <td>1277_1999</td>\n",
       "      <td>6</td>\n",
       "      <td>5</td>\n",
       "      <td>1</td>\n",
       "      <td>1</td>\n",
       "    </tr>\n",
       "  </tbody>\n",
       "</table>\n",
       "</div>"
      ],
      "text/plain": [
       "   Season            GameID   TeamA_ID   TeamB_ID  ScoreDiff  GameRound  \\\n",
       "0    1985  1985_1207_1385_a  1207_1985  1385_1985         18          5   \n",
       "1    1986  1986_1181_1242_a  1181_1986  1242_1986          4          5   \n",
       "2    1992  1992_1181_1231_a  1181_1992  1231_1992          3          5   \n",
       "3    1993  1993_1314_1242_a  1314_1993  1242_1993         10          5   \n",
       "4    1999  1999_1181_1277_a  1181_1999  1277_1999          6          5   \n",
       "\n",
       "   Seed_int_x  Seed_int_y  \n",
       "0           1           1  \n",
       "1           1           1  \n",
       "2           1           2  \n",
       "3           1           2  \n",
       "4           1           1  "
      ]
     },
     "execution_count": 25,
     "metadata": {},
     "output_type": "execute_result"
    }
   ],
   "source": [
    "# Make keys unique\n",
    "df_game_results['GameID'] = df_game_results['GameID'] + '_a'\n",
    "df_mirror['GameID'] = df_mirror['GameID'] + '_b'\n",
    "\n",
    "df_game_results = df_game_results.append(df_mirror, sort=False)\n",
    "\n",
    "df_game_results.head()\n"
   ]
  },
  {
   "cell_type": "markdown",
   "metadata": {},
   "source": [
    "## c. Merge features and labels"
   ]
  },
  {
   "cell_type": "code",
   "execution_count": 26,
   "metadata": {},
   "outputs": [
    {
     "data": {
      "text/plain": [
       "(436, 50)"
      ]
     },
     "execution_count": 26,
     "metadata": {},
     "output_type": "execute_result"
    }
   ],
   "source": [
    "df_team_a = pd.merge(left=df_game_results, right=df_regular_season_data, how='inner', left_on=['TeamA_ID'], right_on=['TeamSeasonId'])\n",
    "df_team_a.drop(labels=['TeamSeasonId', 'Year'], inplace=True, axis=1)\n",
    "\n",
    "df_team_b = pd.merge(left=df_game_results, right=df_regular_season_data, how='inner', left_on=['TeamB_ID'], right_on=['TeamSeasonId'])\n",
    "df_team_b.drop(labels=['TeamSeasonId', 'Year', 'Season', 'ScoreDiff', 'TeamA_ID', 'TeamB_ID', 'Seed_int_x', 'Seed_int_y', 'GameRound'], inplace=True, axis=1)\n",
    "\n",
    "df_dataset = pd.merge(left=df_team_a, right=df_team_b, how='inner', on='GameID')\n",
    "\n",
    "df_dataset.shape"
   ]
  },
  {
   "cell_type": "code",
   "execution_count": 27,
   "metadata": {},
   "outputs": [
    {
     "data": {
      "text/html": [
       "<div>\n",
       "<style scoped>\n",
       "    .dataframe tbody tr th:only-of-type {\n",
       "        vertical-align: middle;\n",
       "    }\n",
       "\n",
       "    .dataframe tbody tr th {\n",
       "        vertical-align: top;\n",
       "    }\n",
       "\n",
       "    .dataframe thead th {\n",
       "        text-align: right;\n",
       "    }\n",
       "</style>\n",
       "<table border=\"1\" class=\"dataframe\">\n",
       "  <thead>\n",
       "    <tr style=\"text-align: right;\">\n",
       "      <th></th>\n",
       "      <th>Season</th>\n",
       "      <th>GameID</th>\n",
       "      <th>TeamA_ID</th>\n",
       "      <th>TeamB_ID</th>\n",
       "      <th>ScoreDiff</th>\n",
       "      <th>GameRound</th>\n",
       "      <th>Seed_int_x</th>\n",
       "      <th>Seed_int_y</th>\n",
       "      <th>TeamID_x</th>\n",
       "      <th>TeamName_x</th>\n",
       "      <th>...</th>\n",
       "      <th>FG%_y</th>\n",
       "      <th>3P_y</th>\n",
       "      <th>3PA_y</th>\n",
       "      <th>3P%_y</th>\n",
       "      <th>FT_y</th>\n",
       "      <th>FTA_y</th>\n",
       "      <th>FT%_y</th>\n",
       "      <th>AST_y</th>\n",
       "      <th>STL_y</th>\n",
       "      <th>BLK_y</th>\n",
       "    </tr>\n",
       "  </thead>\n",
       "  <tbody>\n",
       "    <tr>\n",
       "      <th>0</th>\n",
       "      <td>2017</td>\n",
       "      <td>2017_1246_1417_a</td>\n",
       "      <td>1246_2017</td>\n",
       "      <td>1417_2017</td>\n",
       "      <td>11</td>\n",
       "      <td>3</td>\n",
       "      <td>2</td>\n",
       "      <td>3</td>\n",
       "      <td>1246</td>\n",
       "      <td>Kentucky</td>\n",
       "      <td>...</td>\n",
       "      <td>0.454</td>\n",
       "      <td>200</td>\n",
       "      <td>551</td>\n",
       "      <td>0.363</td>\n",
       "      <td>450</td>\n",
       "      <td>651</td>\n",
       "      <td>0.691</td>\n",
       "      <td>502</td>\n",
       "      <td>175</td>\n",
       "      <td>110</td>\n",
       "    </tr>\n",
       "    <tr>\n",
       "      <th>1</th>\n",
       "      <td>2017</td>\n",
       "      <td>2017_1246_1297_a</td>\n",
       "      <td>1246_2017</td>\n",
       "      <td>1297_2017</td>\n",
       "      <td>9</td>\n",
       "      <td>1</td>\n",
       "      <td>2</td>\n",
       "      <td>15</td>\n",
       "      <td>1246</td>\n",
       "      <td>Kentucky</td>\n",
       "      <td>...</td>\n",
       "      <td>0.439</td>\n",
       "      <td>234</td>\n",
       "      <td>656</td>\n",
       "      <td>0.357</td>\n",
       "      <td>372</td>\n",
       "      <td>545</td>\n",
       "      <td>0.683</td>\n",
       "      <td>439</td>\n",
       "      <td>142</td>\n",
       "      <td>88</td>\n",
       "    </tr>\n",
       "    <tr>\n",
       "      <th>2</th>\n",
       "      <td>2017</td>\n",
       "      <td>2017_1246_1455_a</td>\n",
       "      <td>1246_2017</td>\n",
       "      <td>1455_2017</td>\n",
       "      <td>3</td>\n",
       "      <td>2</td>\n",
       "      <td>2</td>\n",
       "      <td>10</td>\n",
       "      <td>1246</td>\n",
       "      <td>Kentucky</td>\n",
       "      <td>...</td>\n",
       "      <td>0.429</td>\n",
       "      <td>250</td>\n",
       "      <td>771</td>\n",
       "      <td>0.324</td>\n",
       "      <td>551</td>\n",
       "      <td>768</td>\n",
       "      <td>0.717</td>\n",
       "      <td>489</td>\n",
       "      <td>255</td>\n",
       "      <td>125</td>\n",
       "    </tr>\n",
       "    <tr>\n",
       "      <th>3</th>\n",
       "      <td>2017</td>\n",
       "      <td>2017_1246_1417_b</td>\n",
       "      <td>1246_2017</td>\n",
       "      <td>1417_2017</td>\n",
       "      <td>-11</td>\n",
       "      <td>3</td>\n",
       "      <td>2</td>\n",
       "      <td>3</td>\n",
       "      <td>1246</td>\n",
       "      <td>Kentucky</td>\n",
       "      <td>...</td>\n",
       "      <td>0.454</td>\n",
       "      <td>200</td>\n",
       "      <td>551</td>\n",
       "      <td>0.363</td>\n",
       "      <td>450</td>\n",
       "      <td>651</td>\n",
       "      <td>0.691</td>\n",
       "      <td>502</td>\n",
       "      <td>175</td>\n",
       "      <td>110</td>\n",
       "    </tr>\n",
       "    <tr>\n",
       "      <th>4</th>\n",
       "      <td>2017</td>\n",
       "      <td>2017_1246_1297_b</td>\n",
       "      <td>1246_2017</td>\n",
       "      <td>1297_2017</td>\n",
       "      <td>-9</td>\n",
       "      <td>1</td>\n",
       "      <td>2</td>\n",
       "      <td>15</td>\n",
       "      <td>1246</td>\n",
       "      <td>Kentucky</td>\n",
       "      <td>...</td>\n",
       "      <td>0.439</td>\n",
       "      <td>234</td>\n",
       "      <td>656</td>\n",
       "      <td>0.357</td>\n",
       "      <td>372</td>\n",
       "      <td>545</td>\n",
       "      <td>0.683</td>\n",
       "      <td>439</td>\n",
       "      <td>142</td>\n",
       "      <td>88</td>\n",
       "    </tr>\n",
       "  </tbody>\n",
       "</table>\n",
       "<p>5 rows × 50 columns</p>\n",
       "</div>"
      ],
      "text/plain": [
       "   Season            GameID   TeamA_ID   TeamB_ID  ScoreDiff  GameRound  \\\n",
       "0    2017  2017_1246_1417_a  1246_2017  1417_2017         11          3   \n",
       "1    2017  2017_1246_1297_a  1246_2017  1297_2017          9          1   \n",
       "2    2017  2017_1246_1455_a  1246_2017  1455_2017          3          2   \n",
       "3    2017  2017_1246_1417_b  1246_2017  1417_2017        -11          3   \n",
       "4    2017  2017_1246_1297_b  1246_2017  1297_2017         -9          1   \n",
       "\n",
       "   Seed_int_x  Seed_int_y  TeamID_x TeamName_x  ...    FG%_y  3P_y  3PA_y  \\\n",
       "0           2           3      1246   Kentucky  ...    0.454   200    551   \n",
       "1           2          15      1246   Kentucky  ...    0.439   234    656   \n",
       "2           2          10      1246   Kentucky  ...    0.429   250    771   \n",
       "3           2           3      1246   Kentucky  ...    0.454   200    551   \n",
       "4           2          15      1246   Kentucky  ...    0.439   234    656   \n",
       "\n",
       "   3P%_y  FT_y  FTA_y  FT%_y  AST_y  STL_y  BLK_y  \n",
       "0  0.363   450    651  0.691    502    175    110  \n",
       "1  0.357   372    545  0.683    439    142     88  \n",
       "2  0.324   551    768  0.717    489    255    125  \n",
       "3  0.363   450    651  0.691    502    175    110  \n",
       "4  0.357   372    545  0.683    439    142     88  \n",
       "\n",
       "[5 rows x 50 columns]"
      ]
     },
     "execution_count": 27,
     "metadata": {},
     "output_type": "execute_result"
    }
   ],
   "source": [
    "df_dataset.head()"
   ]
  },
  {
   "cell_type": "code",
   "execution_count": 28,
   "metadata": {},
   "outputs": [
    {
     "data": {
      "text/plain": [
       "Index(['Season', 'GameID', 'TeamA_ID', 'TeamB_ID', 'ScoreDiff', 'GameRound',\n",
       "       'Seed_int_x', 'Seed_int_y', 'TeamID_x', 'TeamName_x', 'G_x', 'W_x',\n",
       "       'L_x', 'W-L%_x', 'SRS_x', 'SOS_x', 'Points for_x', 'FG_x', 'FGA_x',\n",
       "       'FG%_x', '3P_x', '3PA_x', '3P%_x', 'FT_x', 'FTA_x', 'FT%_x', 'AST_x',\n",
       "       'STL_x', 'BLK_x', 'TeamID_y', 'TeamName_y', 'G_y', 'W_y', 'L_y',\n",
       "       'W-L%_y', 'SRS_y', 'SOS_y', 'Points for_y', 'FG_y', 'FGA_y', 'FG%_y',\n",
       "       '3P_y', '3PA_y', '3P%_y', 'FT_y', 'FTA_y', 'FT%_y', 'AST_y', 'STL_y',\n",
       "       'BLK_y'],\n",
       "      dtype='object')"
      ]
     },
     "execution_count": 28,
     "metadata": {},
     "output_type": "execute_result"
    }
   ],
   "source": [
    "df_dataset.keys()"
   ]
  },
  {
   "cell_type": "markdown",
   "metadata": {},
   "source": [
    "### Split training and test data"
   ]
  },
  {
   "cell_type": "code",
   "execution_count": 29,
   "metadata": {},
   "outputs": [
    {
     "data": {
      "text/plain": [
       "(87, 49)"
      ]
     },
     "execution_count": 29,
     "metadata": {},
     "output_type": "execute_result"
    }
   ],
   "source": [
    "train_dataset = df_dataset.sample(frac=0.8,random_state=0)\n",
    "test_dataset = df_dataset.drop(train_dataset.index)\n",
    "\n",
    "train_labels = train_dataset.pop('ScoreDiff')\n",
    "test_labels = test_dataset.pop('ScoreDiff')\n",
    "\n",
    "test_dataset.shape"
   ]
  },
  {
   "cell_type": "markdown",
   "metadata": {},
   "source": [
    "# II. Groom & Normalize Features"
   ]
  },
  {
   "cell_type": "markdown",
   "metadata": {},
   "source": [
    "### Utils"
   ]
  },
  {
   "cell_type": "code",
   "execution_count": 30,
   "metadata": {},
   "outputs": [],
   "source": [
    "def groom_to_features(df):\n",
    "    df = df.drop(\n",
    "    labels=['Season', 'TeamA_ID', 'TeamB_ID',\n",
    "            'GameID', 'TeamID_x', 'TeamName_x',\n",
    "           'TeamID_y', 'TeamName_y'],\n",
    "    axis=1)\n",
    "    return df\n",
    "\n",
    "def norm(x, train_stats):\n",
    "    return (x - train_stats['mean']) / train_stats['std']\n",
    "\n",
    "def denorm(x, train_stats):\n",
    "    return (x * train_stats['std']) + train_stats['mean']"
   ]
  },
  {
   "cell_type": "markdown",
   "metadata": {},
   "source": [
    "## Groom\n",
    "Remove identifying & non-scalar columns."
   ]
  },
  {
   "cell_type": "code",
   "execution_count": 31,
   "metadata": {},
   "outputs": [
    {
     "data": {
      "text/html": [
       "<div>\n",
       "<style scoped>\n",
       "    .dataframe tbody tr th:only-of-type {\n",
       "        vertical-align: middle;\n",
       "    }\n",
       "\n",
       "    .dataframe tbody tr th {\n",
       "        vertical-align: top;\n",
       "    }\n",
       "\n",
       "    .dataframe thead th {\n",
       "        text-align: right;\n",
       "    }\n",
       "</style>\n",
       "<table border=\"1\" class=\"dataframe\">\n",
       "  <thead>\n",
       "    <tr style=\"text-align: right;\">\n",
       "      <th></th>\n",
       "      <th>GameRound</th>\n",
       "      <th>Seed_int_x</th>\n",
       "      <th>Seed_int_y</th>\n",
       "      <th>G_x</th>\n",
       "      <th>W_x</th>\n",
       "      <th>L_x</th>\n",
       "      <th>W-L%_x</th>\n",
       "      <th>SRS_x</th>\n",
       "      <th>SOS_x</th>\n",
       "      <th>Points for_x</th>\n",
       "      <th>...</th>\n",
       "      <th>FG%_y</th>\n",
       "      <th>3P_y</th>\n",
       "      <th>3PA_y</th>\n",
       "      <th>3P%_y</th>\n",
       "      <th>FT_y</th>\n",
       "      <th>FTA_y</th>\n",
       "      <th>FT%_y</th>\n",
       "      <th>AST_y</th>\n",
       "      <th>STL_y</th>\n",
       "      <th>BLK_y</th>\n",
       "    </tr>\n",
       "  </thead>\n",
       "  <tbody>\n",
       "    <tr>\n",
       "      <th>153</th>\n",
       "      <td>2</td>\n",
       "      <td>3</td>\n",
       "      <td>6</td>\n",
       "      <td>32</td>\n",
       "      <td>15</td>\n",
       "      <td>17</td>\n",
       "      <td>0.469</td>\n",
       "      <td>10.48</td>\n",
       "      <td>9.69</td>\n",
       "      <td>2480</td>\n",
       "      <td>...</td>\n",
       "      <td>0.430</td>\n",
       "      <td>252</td>\n",
       "      <td>725</td>\n",
       "      <td>0.348</td>\n",
       "      <td>464</td>\n",
       "      <td>658</td>\n",
       "      <td>0.705</td>\n",
       "      <td>508</td>\n",
       "      <td>257</td>\n",
       "      <td>192</td>\n",
       "    </tr>\n",
       "    <tr>\n",
       "      <th>393</th>\n",
       "      <td>2</td>\n",
       "      <td>6</td>\n",
       "      <td>3</td>\n",
       "      <td>30</td>\n",
       "      <td>17</td>\n",
       "      <td>13</td>\n",
       "      <td>0.567</td>\n",
       "      <td>10.63</td>\n",
       "      <td>7.53</td>\n",
       "      <td>2104</td>\n",
       "      <td>...</td>\n",
       "      <td>0.430</td>\n",
       "      <td>129</td>\n",
       "      <td>388</td>\n",
       "      <td>0.332</td>\n",
       "      <td>288</td>\n",
       "      <td>402</td>\n",
       "      <td>0.716</td>\n",
       "      <td>353</td>\n",
       "      <td>169</td>\n",
       "      <td>130</td>\n",
       "    </tr>\n",
       "    <tr>\n",
       "      <th>54</th>\n",
       "      <td>1</td>\n",
       "      <td>1</td>\n",
       "      <td>16</td>\n",
       "      <td>40</td>\n",
       "      <td>33</td>\n",
       "      <td>7</td>\n",
       "      <td>0.825</td>\n",
       "      <td>23.44</td>\n",
       "      <td>10.69</td>\n",
       "      <td>3311</td>\n",
       "      <td>...</td>\n",
       "      <td>0.458</td>\n",
       "      <td>222</td>\n",
       "      <td>657</td>\n",
       "      <td>0.338</td>\n",
       "      <td>485</td>\n",
       "      <td>769</td>\n",
       "      <td>0.631</td>\n",
       "      <td>469</td>\n",
       "      <td>146</td>\n",
       "      <td>101</td>\n",
       "    </tr>\n",
       "    <tr>\n",
       "      <th>188</th>\n",
       "      <td>1</td>\n",
       "      <td>10</td>\n",
       "      <td>7</td>\n",
       "      <td>35</td>\n",
       "      <td>26</td>\n",
       "      <td>9</td>\n",
       "      <td>0.743</td>\n",
       "      <td>17.39</td>\n",
       "      <td>4.24</td>\n",
       "      <td>2535</td>\n",
       "      <td>...</td>\n",
       "      <td>0.455</td>\n",
       "      <td>221</td>\n",
       "      <td>643</td>\n",
       "      <td>0.344</td>\n",
       "      <td>500</td>\n",
       "      <td>749</td>\n",
       "      <td>0.668</td>\n",
       "      <td>480</td>\n",
       "      <td>196</td>\n",
       "      <td>145</td>\n",
       "    </tr>\n",
       "    <tr>\n",
       "      <th>196</th>\n",
       "      <td>1</td>\n",
       "      <td>12</td>\n",
       "      <td>5</td>\n",
       "      <td>33</td>\n",
       "      <td>22</td>\n",
       "      <td>11</td>\n",
       "      <td>0.667</td>\n",
       "      <td>1.00</td>\n",
       "      <td>-3.71</td>\n",
       "      <td>2580</td>\n",
       "      <td>...</td>\n",
       "      <td>0.450</td>\n",
       "      <td>194</td>\n",
       "      <td>589</td>\n",
       "      <td>0.329</td>\n",
       "      <td>564</td>\n",
       "      <td>794</td>\n",
       "      <td>0.710</td>\n",
       "      <td>489</td>\n",
       "      <td>254</td>\n",
       "      <td>91</td>\n",
       "    </tr>\n",
       "  </tbody>\n",
       "</table>\n",
       "<p>5 rows × 41 columns</p>\n",
       "</div>"
      ],
      "text/plain": [
       "     GameRound  Seed_int_x  Seed_int_y  G_x  W_x  L_x  W-L%_x  SRS_x  SOS_x  \\\n",
       "153          2           3           6   32   15   17   0.469  10.48   9.69   \n",
       "393          2           6           3   30   17   13   0.567  10.63   7.53   \n",
       "54           1           1          16   40   33    7   0.825  23.44  10.69   \n",
       "188          1          10           7   35   26    9   0.743  17.39   4.24   \n",
       "196          1          12           5   33   22   11   0.667   1.00  -3.71   \n",
       "\n",
       "     Points for_x  ...    FG%_y  3P_y  3PA_y  3P%_y  FT_y  FTA_y  FT%_y  \\\n",
       "153          2480  ...    0.430   252    725  0.348   464    658  0.705   \n",
       "393          2104  ...    0.430   129    388  0.332   288    402  0.716   \n",
       "54           3311  ...    0.458   222    657  0.338   485    769  0.631   \n",
       "188          2535  ...    0.455   221    643  0.344   500    749  0.668   \n",
       "196          2580  ...    0.450   194    589  0.329   564    794  0.710   \n",
       "\n",
       "     AST_y  STL_y  BLK_y  \n",
       "153    508    257    192  \n",
       "393    353    169    130  \n",
       "54     469    146    101  \n",
       "188    480    196    145  \n",
       "196    489    254     91  \n",
       "\n",
       "[5 rows x 41 columns]"
      ]
     },
     "execution_count": 31,
     "metadata": {},
     "output_type": "execute_result"
    }
   ],
   "source": [
    "df_final_training_dataset = groom_to_features(train_dataset)\n",
    "df_final_training_dataset.head()"
   ]
  },
  {
   "cell_type": "markdown",
   "metadata": {},
   "source": [
    "## Describe\n",
    "Evaluate distributions of feature variables"
   ]
  },
  {
   "cell_type": "code",
   "execution_count": 32,
   "metadata": {},
   "outputs": [
    {
     "data": {
      "text/html": [
       "<div>\n",
       "<style scoped>\n",
       "    .dataframe tbody tr th:only-of-type {\n",
       "        vertical-align: middle;\n",
       "    }\n",
       "\n",
       "    .dataframe tbody tr th {\n",
       "        vertical-align: top;\n",
       "    }\n",
       "\n",
       "    .dataframe thead th {\n",
       "        text-align: right;\n",
       "    }\n",
       "</style>\n",
       "<table border=\"1\" class=\"dataframe\">\n",
       "  <thead>\n",
       "    <tr style=\"text-align: right;\">\n",
       "      <th></th>\n",
       "      <th>count</th>\n",
       "      <th>mean</th>\n",
       "      <th>std</th>\n",
       "      <th>min</th>\n",
       "      <th>25%</th>\n",
       "      <th>50%</th>\n",
       "      <th>75%</th>\n",
       "      <th>max</th>\n",
       "    </tr>\n",
       "  </thead>\n",
       "  <tbody>\n",
       "    <tr>\n",
       "      <th>GameRound</th>\n",
       "      <td>349.0</td>\n",
       "      <td>1.412607</td>\n",
       "      <td>1.048514</td>\n",
       "      <td>0.0</td>\n",
       "      <td>1.0</td>\n",
       "      <td>1.0</td>\n",
       "      <td>2.0</td>\n",
       "      <td>6.0</td>\n",
       "    </tr>\n",
       "    <tr>\n",
       "      <th>Seed_int_x</th>\n",
       "      <td>349.0</td>\n",
       "      <td>6.644699</td>\n",
       "      <td>4.470832</td>\n",
       "      <td>1.0</td>\n",
       "      <td>3.0</td>\n",
       "      <td>6.0</td>\n",
       "      <td>10.0</td>\n",
       "      <td>16.0</td>\n",
       "    </tr>\n",
       "    <tr>\n",
       "      <th>Seed_int_y</th>\n",
       "      <td>349.0</td>\n",
       "      <td>10.017192</td>\n",
       "      <td>4.312471</td>\n",
       "      <td>1.0</td>\n",
       "      <td>7.0</td>\n",
       "      <td>11.0</td>\n",
       "      <td>14.0</td>\n",
       "      <td>16.0</td>\n",
       "    </tr>\n",
       "    <tr>\n",
       "      <th>G_x</th>\n",
       "      <td>349.0</td>\n",
       "      <td>33.051576</td>\n",
       "      <td>3.045192</td>\n",
       "      <td>27.0</td>\n",
       "      <td>31.0</td>\n",
       "      <td>33.0</td>\n",
       "      <td>35.0</td>\n",
       "      <td>40.0</td>\n",
       "    </tr>\n",
       "    <tr>\n",
       "      <th>W_x</th>\n",
       "      <td>349.0</td>\n",
       "      <td>20.392550</td>\n",
       "      <td>5.307017</td>\n",
       "      <td>8.0</td>\n",
       "      <td>17.0</td>\n",
       "      <td>20.0</td>\n",
       "      <td>23.0</td>\n",
       "      <td>35.0</td>\n",
       "    </tr>\n",
       "  </tbody>\n",
       "</table>\n",
       "</div>"
      ],
      "text/plain": [
       "            count       mean       std   min   25%   50%   75%   max\n",
       "GameRound   349.0   1.412607  1.048514   0.0   1.0   1.0   2.0   6.0\n",
       "Seed_int_x  349.0   6.644699  4.470832   1.0   3.0   6.0  10.0  16.0\n",
       "Seed_int_y  349.0  10.017192  4.312471   1.0   7.0  11.0  14.0  16.0\n",
       "G_x         349.0  33.051576  3.045192  27.0  31.0  33.0  35.0  40.0\n",
       "W_x         349.0  20.392550  5.307017   8.0  17.0  20.0  23.0  35.0"
      ]
     },
     "execution_count": 32,
     "metadata": {},
     "output_type": "execute_result"
    }
   ],
   "source": [
    "train_stats = df_final_training_dataset.describe()\n",
    "train_stats = train_stats.transpose()\n",
    "train_stats.head()"
   ]
  },
  {
   "cell_type": "markdown",
   "metadata": {},
   "source": [
    "## Normalize"
   ]
  },
  {
   "cell_type": "code",
   "execution_count": 33,
   "metadata": {},
   "outputs": [
    {
     "data": {
      "text/html": [
       "<div>\n",
       "<style scoped>\n",
       "    .dataframe tbody tr th:only-of-type {\n",
       "        vertical-align: middle;\n",
       "    }\n",
       "\n",
       "    .dataframe tbody tr th {\n",
       "        vertical-align: top;\n",
       "    }\n",
       "\n",
       "    .dataframe thead th {\n",
       "        text-align: right;\n",
       "    }\n",
       "</style>\n",
       "<table border=\"1\" class=\"dataframe\">\n",
       "  <thead>\n",
       "    <tr style=\"text-align: right;\">\n",
       "      <th></th>\n",
       "      <th>GameRound</th>\n",
       "      <th>Seed_int_x</th>\n",
       "      <th>Seed_int_y</th>\n",
       "      <th>G_x</th>\n",
       "      <th>W_x</th>\n",
       "      <th>L_x</th>\n",
       "      <th>W-L%_x</th>\n",
       "      <th>SRS_x</th>\n",
       "      <th>SOS_x</th>\n",
       "      <th>Points for_x</th>\n",
       "      <th>...</th>\n",
       "      <th>FG%_y</th>\n",
       "      <th>3P_y</th>\n",
       "      <th>3PA_y</th>\n",
       "      <th>3P%_y</th>\n",
       "      <th>FT_y</th>\n",
       "      <th>FTA_y</th>\n",
       "      <th>FT%_y</th>\n",
       "      <th>AST_y</th>\n",
       "      <th>STL_y</th>\n",
       "      <th>BLK_y</th>\n",
       "    </tr>\n",
       "  </thead>\n",
       "  <tbody>\n",
       "    <tr>\n",
       "      <th>153</th>\n",
       "      <td>0.560215</td>\n",
       "      <td>-0.815217</td>\n",
       "      <td>-0.931529</td>\n",
       "      <td>-0.345323</td>\n",
       "      <td>-1.016117</td>\n",
       "      <td>1.277147</td>\n",
       "      <td>-1.212589</td>\n",
       "      <td>0.031056</td>\n",
       "      <td>0.920364</td>\n",
       "      <td>0.122404</td>\n",
       "      <td>...</td>\n",
       "      <td>-0.690733</td>\n",
       "      <td>0.992933</td>\n",
       "      <td>1.200381</td>\n",
       "      <td>-0.016585</td>\n",
       "      <td>-0.185906</td>\n",
       "      <td>-0.276880</td>\n",
       "      <td>0.265697</td>\n",
       "      <td>0.932390</td>\n",
       "      <td>1.010331</td>\n",
       "      <td>1.881724</td>\n",
       "    </tr>\n",
       "    <tr>\n",
       "      <th>393</th>\n",
       "      <td>0.560215</td>\n",
       "      <td>-0.144201</td>\n",
       "      <td>-1.627186</td>\n",
       "      <td>-1.002096</td>\n",
       "      <td>-0.639257</td>\n",
       "      <td>0.100317</td>\n",
       "      <td>-0.374108</td>\n",
       "      <td>0.051300</td>\n",
       "      <td>0.452666</td>\n",
       "      <td>-1.042888</td>\n",
       "      <td>...</td>\n",
       "      <td>-0.690733</td>\n",
       "      <td>-1.499823</td>\n",
       "      <td>-1.589691</td>\n",
       "      <td>-0.577866</td>\n",
       "      <td>-2.268926</td>\n",
       "      <td>-2.581692</td>\n",
       "      <td>0.577627</td>\n",
       "      <td>-1.202627</td>\n",
       "      <td>-1.007047</td>\n",
       "      <td>0.331142</td>\n",
       "    </tr>\n",
       "    <tr>\n",
       "      <th>54</th>\n",
       "      <td>-0.393517</td>\n",
       "      <td>-1.262561</td>\n",
       "      <td>1.387327</td>\n",
       "      <td>2.281769</td>\n",
       "      <td>2.375619</td>\n",
       "      <td>-1.664928</td>\n",
       "      <td>1.833324</td>\n",
       "      <td>1.780128</td>\n",
       "      <td>1.136892</td>\n",
       "      <td>2.697823</td>\n",
       "      <td>...</td>\n",
       "      <td>0.522613</td>\n",
       "      <td>0.384944</td>\n",
       "      <td>0.637399</td>\n",
       "      <td>-0.367385</td>\n",
       "      <td>0.062636</td>\n",
       "      <td>0.722472</td>\n",
       "      <td>-1.832741</td>\n",
       "      <td>0.395192</td>\n",
       "      <td>-1.534316</td>\n",
       "      <td>-0.394131</td>\n",
       "    </tr>\n",
       "    <tr>\n",
       "      <th>188</th>\n",
       "      <td>-0.393517</td>\n",
       "      <td>0.750487</td>\n",
       "      <td>-0.699643</td>\n",
       "      <td>0.639836</td>\n",
       "      <td>1.056611</td>\n",
       "      <td>-1.076513</td>\n",
       "      <td>1.131737</td>\n",
       "      <td>0.963624</td>\n",
       "      <td>-0.259708</td>\n",
       "      <td>0.292859</td>\n",
       "      <td>...</td>\n",
       "      <td>0.392611</td>\n",
       "      <td>0.364677</td>\n",
       "      <td>0.521491</td>\n",
       "      <td>-0.156905</td>\n",
       "      <td>0.240166</td>\n",
       "      <td>0.542409</td>\n",
       "      <td>-0.783522</td>\n",
       "      <td>0.546709</td>\n",
       "      <td>-0.388078</td>\n",
       "      <td>0.706282</td>\n",
       "    </tr>\n",
       "    <tr>\n",
       "      <th>196</th>\n",
       "      <td>-0.393517</td>\n",
       "      <td>1.197831</td>\n",
       "      <td>-1.163415</td>\n",
       "      <td>-0.016937</td>\n",
       "      <td>0.302891</td>\n",
       "      <td>-0.488098</td>\n",
       "      <td>0.481486</td>\n",
       "      <td>-1.248357</td>\n",
       "      <td>-1.981099</td>\n",
       "      <td>0.432322</td>\n",
       "      <td>...</td>\n",
       "      <td>0.175943</td>\n",
       "      <td>-0.182513</td>\n",
       "      <td>0.074417</td>\n",
       "      <td>-0.683106</td>\n",
       "      <td>0.997628</td>\n",
       "      <td>0.947552</td>\n",
       "      <td>0.407483</td>\n",
       "      <td>0.670678</td>\n",
       "      <td>0.941557</td>\n",
       "      <td>-0.644225</td>\n",
       "    </tr>\n",
       "  </tbody>\n",
       "</table>\n",
       "<p>5 rows × 41 columns</p>\n",
       "</div>"
      ],
      "text/plain": [
       "     GameRound  Seed_int_x  Seed_int_y       G_x       W_x       L_x  \\\n",
       "153   0.560215   -0.815217   -0.931529 -0.345323 -1.016117  1.277147   \n",
       "393   0.560215   -0.144201   -1.627186 -1.002096 -0.639257  0.100317   \n",
       "54   -0.393517   -1.262561    1.387327  2.281769  2.375619 -1.664928   \n",
       "188  -0.393517    0.750487   -0.699643  0.639836  1.056611 -1.076513   \n",
       "196  -0.393517    1.197831   -1.163415 -0.016937  0.302891 -0.488098   \n",
       "\n",
       "       W-L%_x     SRS_x     SOS_x  Points for_x    ...        FG%_y      3P_y  \\\n",
       "153 -1.212589  0.031056  0.920364      0.122404    ...    -0.690733  0.992933   \n",
       "393 -0.374108  0.051300  0.452666     -1.042888    ...    -0.690733 -1.499823   \n",
       "54   1.833324  1.780128  1.136892      2.697823    ...     0.522613  0.384944   \n",
       "188  1.131737  0.963624 -0.259708      0.292859    ...     0.392611  0.364677   \n",
       "196  0.481486 -1.248357 -1.981099      0.432322    ...     0.175943 -0.182513   \n",
       "\n",
       "        3PA_y     3P%_y      FT_y     FTA_y     FT%_y     AST_y     STL_y  \\\n",
       "153  1.200381 -0.016585 -0.185906 -0.276880  0.265697  0.932390  1.010331   \n",
       "393 -1.589691 -0.577866 -2.268926 -2.581692  0.577627 -1.202627 -1.007047   \n",
       "54   0.637399 -0.367385  0.062636  0.722472 -1.832741  0.395192 -1.534316   \n",
       "188  0.521491 -0.156905  0.240166  0.542409 -0.783522  0.546709 -0.388078   \n",
       "196  0.074417 -0.683106  0.997628  0.947552  0.407483  0.670678  0.941557   \n",
       "\n",
       "        BLK_y  \n",
       "153  1.881724  \n",
       "393  0.331142  \n",
       "54  -0.394131  \n",
       "188  0.706282  \n",
       "196 -0.644225  \n",
       "\n",
       "[5 rows x 41 columns]"
      ]
     },
     "execution_count": 33,
     "metadata": {},
     "output_type": "execute_result"
    }
   ],
   "source": [
    "normed_train_data = norm(df_final_training_dataset, train_stats)\n",
    "\n",
    "normed_train_data.head()"
   ]
  },
  {
   "cell_type": "code",
   "execution_count": 34,
   "metadata": {},
   "outputs": [
    {
     "data": {
      "text/plain": [
       "153   -0.984865\n",
       "393   -0.356352\n",
       "54     3.021903\n",
       "188    0.429289\n",
       "196   -0.199224\n",
       "Name: ScoreDiff, dtype: float64"
      ]
     },
     "execution_count": 34,
     "metadata": {},
     "output_type": "execute_result"
    }
   ],
   "source": [
    "normed_train_labels = norm(train_labels, train_labels.describe().transpose())\n",
    "normed_train_labels.head()"
   ]
  },
  {
   "cell_type": "markdown",
   "metadata": {},
   "source": [
    "# III. Visualizations"
   ]
  },
  {
   "cell_type": "code",
   "execution_count": 35,
   "metadata": {},
   "outputs": [
    {
     "name": "stderr",
     "output_type": "stream",
     "text": [
      "/anaconda3/envs/march_madness/lib/python3.6/site-packages/matplotlib/pyplot.py:514: RuntimeWarning: More than 20 figures have been opened. Figures created through the pyplot interface (`matplotlib.pyplot.figure`) are retained until explicitly closed and may consume too much memory. (To control this warning, see the rcParam `figure.max_open_warning`).\n",
      "  max_open_warning, RuntimeWarning)\n"
     ]
    },
    {
     "data": {
      "image/png": "[encoded data removed]",
      "text/plain": [
       "<Figure size 432x288 with 1 Axes>"
      ]
     },
     "metadata": {
      "needs_background": "light"
     },
     "output_type": "display_data"
    },
    {
     "data": {
      "image/png": "[encoded data removed]",
      "text/plain": [
       "<Figure size 432x288 with 1 Axes>"
      ]
     },
     "metadata": {
      "needs_background": "light"
     },
     "output_type": "display_data"
    },
    {
     "data": {
      "image/png": "[encoded data removed]",
      "text/plain": [
       "<Figure size 432x288 with 1 Axes>"
      ]
     },
     "metadata": {
      "needs_background": "light"
     },
     "output_type": "display_data"
    },
    {
     "data": {
      "image/png": "[encoded data removed]",
      "text/plain": [
       "<Figure size 432x288 with 1 Axes>"
      ]
     },
     "metadata": {
      "needs_background": "light"
     },
     "output_type": "display_data"
    },
    {
     "data": {
      "image/png": "[encoded data removed]",
      "text/plain": [
       "<Figure size 432x288 with 1 Axes>"
      ]
     },
     "metadata": {
      "needs_background": "light"
     },
     "output_type": "display_data"
    },
    {
     "data": {
      "image/png": "[encoded data removed]",
      "text/plain": [
       "<Figure size 432x288 with 1 Axes>"
      ]
     },
     "metadata": {
      "needs_background": "light"
     },
     "output_type": "display_data"
    },
    {
     "data": {
      "image/png": "[encoded data removed]",
      "text/plain": [
       "<Figure size 432x288 with 1 Axes>"
      ]
     },
     "metadata": {
      "needs_background": "light"
     },
     "output_type": "display_data"
    },
    {
     "data": {
      "image/png": "[encoded data removed]",
      "text/plain": [
       "<Figure size 432x288 with 1 Axes>"
      ]
     },
     "metadata": {
      "needs_background": "light"
     },
     "output_type": "display_data"
    },
    {
     "data": {
      "image/png": "[encoded data removed]",
      "text/plain": [
       "<Figure size 432x288 with 1 Axes>"
      ]
     },
     "metadata": {
      "needs_background": "light"
     },
     "output_type": "display_data"
    },
    {
     "data": {
      "image/png": "[encoded data removed]",
      "text/plain": [
       "<Figure size 432x288 with 1 Axes>"
      ]
     },
     "metadata": {
      "needs_background": "light"
     },
     "output_type": "display_data"
    },
    {
     "data": {
      "image/png": "[encoded data removed]",
      "text/plain": [
       "<Figure size 432x288 with 1 Axes>"
      ]
     },
     "metadata": {
      "needs_background": "light"
     },
     "output_type": "display_data"
    },
    {
     "data": {
      "image/png": "[encoded data removed]",
      "text/plain": [
       "<Figure size 432x288 with 1 Axes>"
      ]
     },
     "metadata": {
      "needs_background": "light"
     },
     "output_type": "display_data"
    },
    {
     "data": {
      "image/png": "[encoded data removed]",
      "text/plain": [
       "<Figure size 432x288 with 1 Axes>"
      ]
     },
     "metadata": {
      "needs_background": "light"
     },
     "output_type": "display_data"
    },
    {
     "data": {
      "image/png": "[encoded data removed]",
      "text/plain": [
       "<Figure size 432x288 with 1 Axes>"
      ]
     },
     "metadata": {
      "needs_background": "light"
     },
     "output_type": "display_data"
    },
    {
     "data": {
      "image/png": "[encoded data removed]",
      "text/plain": [
       "<Figure size 432x288 with 1 Axes>"
      ]
     },
     "metadata": {
      "needs_background": "light"
     },
     "output_type": "display_data"
    },
    {
     "data": {
      "image/png": "[encoded data removed]",
      "text/plain": [
       "<Figure size 432x288 with 1 Axes>"
      ]
     },
     "metadata": {
      "needs_background": "light"
     },
     "output_type": "display_data"
    },
    {
     "data": {
      "image/png": "[encoded data removed]",
      "text/plain": [
       "<Figure size 432x288 with 1 Axes>"
      ]
     },
     "metadata": {
      "needs_background": "light"
     },
     "output_type": "display_data"
    },
    {
     "data": {
      "image/png": "[encoded data removed]",
      "text/plain": [
       "<Figure size 432x288 with 1 Axes>"
      ]
     },
     "metadata": {
      "needs_background": "light"
     },
     "output_type": "display_data"
    },
    {
     "data": {
      "image/png": "[encoded data removed]",
      "text/plain": [
       "<Figure size 432x288 with 1 Axes>"
      ]
     },
     "metadata": {
      "needs_background": "light"
     },
     "output_type": "display_data"
    },
    {
     "data": {
      "image/png": "[encoded data removed]",
      "text/plain": [
       "<Figure size 432x288 with 1 Axes>"
      ]
     },
     "metadata": {
      "needs_background": "light"
     },
     "output_type": "display_data"
    },
    {
     "data": {
      "image/png": "[encoded data removed]",
      "text/plain": [
       "<Figure size 432x288 with 1 Axes>"
      ]
     },
     "metadata": {
      "needs_background": "light"
     },
     "output_type": "display_data"
    },
    {
     "data": {
      "image/png": "[encoded data removed]",
      "text/plain": [
       "<Figure size 432x288 with 1 Axes>"
      ]
     },
     "metadata": {
      "needs_background": "light"
     },
     "output_type": "display_data"
    },
    {
     "data": {
      "image/png": "[encoded data removed]",
      "text/plain": [
       "<Figure size 432x288 with 1 Axes>"
      ]
     },
     "metadata": {
      "needs_background": "light"
     },
     "output_type": "display_data"
    },
    {
     "data": {
      "image/png": "[encoded data removed]",
      "text/plain": [
       "<Figure size 432x288 with 1 Axes>"
      ]
     },
     "metadata": {
      "needs_background": "light"
     },
     "output_type": "display_data"
    },
    {
     "data": {
      "image/png": "[encoded data removed]",
      "text/plain": [
       "<Figure size 432x288 with 1 Axes>"
      ]
     },
     "metadata": {
      "needs_background": "light"
     },
     "output_type": "display_data"
    },
    {
     "data": {
      "image/png": "[encoded data removed]",
      "text/plain": [
       "<Figure size 432x288 with 1 Axes>"
      ]
     },
     "metadata": {
      "needs_background": "light"
     },
     "output_type": "display_data"
    },
    {
     "data": {
      "image/png": "[encoded data removed]",
      "text/plain": [
       "<Figure size 432x288 with 1 Axes>"
      ]
     },
     "metadata": {
      "needs_background": "light"
     },
     "output_type": "display_data"
    },
    {
     "data": {
      "image/png": "[encoded data removed]",
      "text/plain": [
       "<Figure size 432x288 with 1 Axes>"
      ]
     },
     "metadata": {
      "needs_background": "light"
     },
     "output_type": "display_data"
    },
    {
     "data": {
      "image/png": "[encoded data removed]",
      "text/plain": [
       "<Figure size 432x288 with 1 Axes>"
      ]
     },
     "metadata": {
      "needs_background": "light"
     },
     "output_type": "display_data"
    },
    {
     "data": {
      "image/png": "[encoded data removed]",
      "text/plain": [
       "<Figure size 432x288 with 1 Axes>"
      ]
     },
     "metadata": {
      "needs_background": "light"
     },
     "output_type": "display_data"
    },
    {
     "data": {
      "image/png": "[encoded data removed]",
      "text/plain": [
       "<Figure size 432x288 with 1 Axes>"
      ]
     },
     "metadata": {
      "needs_background": "light"
     },
     "output_type": "display_data"
    },
    {
     "data": {
      "image/png": "[encoded data removed]",
      "text/plain": [
       "<Figure size 432x288 with 1 Axes>"
      ]
     },
     "metadata": {
      "needs_background": "light"
     },
     "output_type": "display_data"
    },
    {
     "data": {
      "image/png": "[encoded data removed]",
      "text/plain": [
       "<Figure size 432x288 with 1 Axes>"
      ]
     },
     "metadata": {
      "needs_background": "light"
     },
     "output_type": "display_data"
    },
    {
     "data": {
      "image/png": "[encoded data removed]",
      "text/plain": [
       "<Figure size 432x288 with 1 Axes>"
      ]
     },
     "metadata": {
      "needs_background": "light"
     },
     "output_type": "display_data"
    },
    {
     "data": {
      "image/png": "[encoded data removed]",
      "text/plain": [
       "<Figure size 432x288 with 1 Axes>"
      ]
     },
     "metadata": {
      "needs_background": "light"
     },
     "output_type": "display_data"
    },
    {
     "data": {
      "image/png": "[encoded data removed]",
      "text/plain": [
       "<Figure size 432x288 with 1 Axes>"
      ]
     },
     "metadata": {
      "needs_background": "light"
     },
     "output_type": "display_data"
    },
    {
     "data": {
      "image/png": "[encoded data removed]",
      "text/plain": [
       "<Figure size 432x288 with 1 Axes>"
      ]
     },
     "metadata": {
      "needs_background": "light"
     },
     "output_type": "display_data"
    },
    {
     "data": {
      "image/png": "[encoded data removed]",
      "text/plain": [
       "<Figure size 432x288 with 1 Axes>"
      ]
     },
     "metadata": {
      "needs_background": "light"
     },
     "output_type": "display_data"
    },
    {
     "data": {
      "image/png": "[encoded data removed]",
      "text/plain": [
       "<Figure size 432x288 with 1 Axes>"
      ]
     },
     "metadata": {
      "needs_background": "light"
     },
     "output_type": "display_data"
    },
    {
     "data": {
      "image/png": "[encoded data removed]",
      "text/plain": [
       "<Figure size 432x288 with 1 Axes>"
      ]
     },
     "metadata": {
      "needs_background": "light"
     },
     "output_type": "display_data"
    },
    {
     "data": {
      "image/png": "[encoded data removed]",
      "text/plain": [
       "<Figure size 432x288 with 1 Axes>"
      ]
     },
     "metadata": {
      "needs_background": "light"
     },
     "output_type": "display_data"
    }
   ],
   "source": [
    "# sns.lmplot(x='W-L%_x', y='ScoreDiff', data=normed_train_data)\n",
    "for col, series in normed_train_data.iteritems():\n",
    "    plt.figure()\n",
    "    plt.title(col)\n",
    "    plt.xlabel(col)\n",
    "    plt.ylabel('ScoreDiff')\n",
    "\n",
    "    plt.scatter(series, normed_train_labels)\n",
    "    "
   ]
  },
  {
   "cell_type": "markdown",
   "metadata": {},
   "source": [
    "# IV. Build the model."
   ]
  },
  {
   "cell_type": "code",
   "execution_count": 36,
   "metadata": {},
   "outputs": [
    {
     "name": "stdout",
     "output_type": "stream",
     "text": [
      "_________________________________________________________________\n",
      "Layer (type)                 Output Shape              Param #   \n",
      "=================================================================\n",
      "dense (Dense)                (None, 64)                2688      \n",
      "_________________________________________________________________\n",
      "dense_1 (Dense)              (None, 1)                 65        \n",
      "=================================================================\n",
      "Total params: 2,753\n",
      "Trainable params: 2,753\n",
      "Non-trainable params: 0\n",
      "_________________________________________________________________\n"
     ]
    }
   ],
   "source": [
    "model = keras.Sequential([\n",
    "    layers.Dense(64, activation=tf.nn.relu, input_shape=[len(normed_train_data.keys())]),\n",
    "    layers.Dense(1)\n",
    "  ])\n",
    "\n",
    "model.summary()"
   ]
  },
  {
   "cell_type": "code",
   "execution_count": 37,
   "metadata": {},
   "outputs": [
    {
     "data": {
      "text/plain": [
       "array([[-0.29643577],\n",
       "       [ 0.70307577],\n",
       "       [-0.30667576],\n",
       "       [ 0.58101547],\n",
       "       [-0.24763602],\n",
       "       [-2.081131  ],\n",
       "       [-0.27354333],\n",
       "       [-1.2810428 ],\n",
       "       [-0.33061773],\n",
       "       [ 0.21091425]], dtype=float32)"
      ]
     },
     "execution_count": 37,
     "metadata": {},
     "output_type": "execute_result"
    }
   ],
   "source": [
    "optimizer = tf.train.RMSPropOptimizer(0.001)\n",
    "\n",
    "model.compile(loss='mse',\n",
    "            optimizer=optimizer,\n",
    "            metrics=['mae', 'mse'])\n",
    "\n",
    "example_batch = normed_train_data[:10]\n",
    "example_result = model.predict(example_batch)\n",
    "example_result"
   ]
  },
  {
   "cell_type": "markdown",
   "metadata": {},
   "source": [
    "# V. Train the Model"
   ]
  },
  {
   "cell_type": "code",
   "execution_count": 38,
   "metadata": {},
   "outputs": [
    {
     "name": "stdout",
     "output_type": "stream",
     "text": [
      "\n",
      "............................................................."
     ]
    }
   ],
   "source": [
    "class PrintDot(keras.callbacks.Callback):\n",
    "  def on_epoch_end(self, epoch, logs):\n",
    "    if epoch % 100 == 0: print('')\n",
    "    print('.', end='')\n",
    "\n",
    "EPOCHS = 1000\n",
    "\n",
    "early_stop = keras.callbacks.EarlyStopping(monitor='val_loss', patience=50)\n",
    "\n",
    "history = model.fit(normed_train_data, normed_train_labels, epochs=EPOCHS,\n",
    "                    validation_split = 0.2, verbose=0, callbacks=[early_stop, PrintDot()])"
   ]
  },
  {
   "cell_type": "code",
   "execution_count": 39,
   "metadata": {},
   "outputs": [
    {
     "data": {
      "text/html": [
       "<div>\n",
       "<style scoped>\n",
       "    .dataframe tbody tr th:only-of-type {\n",
       "        vertical-align: middle;\n",
       "    }\n",
       "\n",
       "    .dataframe tbody tr th {\n",
       "        vertical-align: top;\n",
       "    }\n",
       "\n",
       "    .dataframe thead th {\n",
       "        text-align: right;\n",
       "    }\n",
       "</style>\n",
       "<table border=\"1\" class=\"dataframe\">\n",
       "  <thead>\n",
       "    <tr style=\"text-align: right;\">\n",
       "      <th></th>\n",
       "      <th>val_loss</th>\n",
       "      <th>val_mean_absolute_error</th>\n",
       "      <th>val_mean_squared_error</th>\n",
       "      <th>loss</th>\n",
       "      <th>mean_absolute_error</th>\n",
       "      <th>mean_squared_error</th>\n",
       "      <th>epoch</th>\n",
       "    </tr>\n",
       "  </thead>\n",
       "  <tbody>\n",
       "    <tr>\n",
       "      <th>56</th>\n",
       "      <td>1.638381</td>\n",
       "      <td>1.052665</td>\n",
       "      <td>1.638381</td>\n",
       "      <td>0.873144</td>\n",
       "      <td>0.720850</td>\n",
       "      <td>0.873144</td>\n",
       "      <td>56</td>\n",
       "    </tr>\n",
       "    <tr>\n",
       "      <th>57</th>\n",
       "      <td>1.604178</td>\n",
       "      <td>1.044401</td>\n",
       "      <td>1.604178</td>\n",
       "      <td>0.867772</td>\n",
       "      <td>0.717072</td>\n",
       "      <td>0.867772</td>\n",
       "      <td>57</td>\n",
       "    </tr>\n",
       "    <tr>\n",
       "      <th>58</th>\n",
       "      <td>1.610413</td>\n",
       "      <td>1.046040</td>\n",
       "      <td>1.610413</td>\n",
       "      <td>0.862323</td>\n",
       "      <td>0.715257</td>\n",
       "      <td>0.862323</td>\n",
       "      <td>58</td>\n",
       "    </tr>\n",
       "    <tr>\n",
       "      <th>59</th>\n",
       "      <td>1.578062</td>\n",
       "      <td>1.039697</td>\n",
       "      <td>1.578062</td>\n",
       "      <td>0.872551</td>\n",
       "      <td>0.718446</td>\n",
       "      <td>0.872551</td>\n",
       "      <td>59</td>\n",
       "    </tr>\n",
       "    <tr>\n",
       "      <th>60</th>\n",
       "      <td>1.681538</td>\n",
       "      <td>1.068040</td>\n",
       "      <td>1.681538</td>\n",
       "      <td>0.859282</td>\n",
       "      <td>0.717718</td>\n",
       "      <td>0.859282</td>\n",
       "      <td>60</td>\n",
       "    </tr>\n",
       "  </tbody>\n",
       "</table>\n",
       "</div>"
      ],
      "text/plain": [
       "    val_loss  val_mean_absolute_error  val_mean_squared_error      loss  \\\n",
       "56  1.638381                 1.052665                1.638381  0.873144   \n",
       "57  1.604178                 1.044401                1.604178  0.867772   \n",
       "58  1.610413                 1.046040                1.610413  0.862323   \n",
       "59  1.578062                 1.039697                1.578062  0.872551   \n",
       "60  1.681538                 1.068040                1.681538  0.859282   \n",
       "\n",
       "    mean_absolute_error  mean_squared_error  epoch  \n",
       "56             0.720850            0.873144     56  \n",
       "57             0.717072            0.867772     57  \n",
       "58             0.715257            0.862323     58  \n",
       "59             0.718446            0.872551     59  \n",
       "60             0.717718            0.859282     60  "
      ]
     },
     "execution_count": 39,
     "metadata": {},
     "output_type": "execute_result"
    }
   ],
   "source": [
    "hist = pd.DataFrame(history.history)\n",
    "hist['epoch'] = history.epoch\n",
    "hist.tail()"
   ]
  },
  {
   "cell_type": "code",
   "execution_count": 40,
   "metadata": {},
   "outputs": [
    {
     "data": {
      "image/png": "[encoded data removed]",
      "text/plain": [
       "<Figure size 432x288 with 1 Axes>"
      ]
     },
     "metadata": {
      "needs_background": "light"
     },
     "output_type": "display_data"
    },
    {
     "data": {
      "image/png": "[encoded data removed]",
      "text/plain": [
       "<Figure size 432x288 with 1 Axes>"
      ]
     },
     "metadata": {
      "needs_background": "light"
     },
     "output_type": "display_data"
    }
   ],
   "source": [
    "def plot_history(history):\n",
    "  plt.figure()\n",
    "  plt.xlabel('Epoch')\n",
    "  plt.ylabel('Mean Abs Error [ScoreDiff]')\n",
    "  plt.plot(hist['epoch'], hist['mean_absolute_error'],\n",
    "           label='Train Error')\n",
    "  plt.plot(hist['epoch'], hist['val_mean_absolute_error'],\n",
    "           label = 'Val Error')\n",
    "  plt.legend()\n",
    "  plt.ylim([0,20])\n",
    "  \n",
    "  plt.figure()\n",
    "  plt.xlabel('Epoch')\n",
    "  plt.ylabel('Mean Square Error [$ScoreDiff^2$]')\n",
    "  plt.plot(hist['epoch'], hist['mean_squared_error'],\n",
    "           label='Train Error')\n",
    "  plt.plot(hist['epoch'], hist['val_mean_squared_error'],\n",
    "           label = 'Val Error')\n",
    "  plt.legend()\n",
    "  plt.ylim([0,500])\n",
    "\n",
    "plot_history(history)"
   ]
  },
  {
   "cell_type": "markdown",
   "metadata": {},
   "source": [
    "# VI. Evaluate Model"
   ]
  },
  {
   "cell_type": "markdown",
   "metadata": {},
   "source": [
    "### Normalize test data"
   ]
  },
  {
   "cell_type": "code",
   "execution_count": 41,
   "metadata": {},
   "outputs": [
    {
     "data": {
      "text/html": [
       "<div>\n",
       "<style scoped>\n",
       "    .dataframe tbody tr th:only-of-type {\n",
       "        vertical-align: middle;\n",
       "    }\n",
       "\n",
       "    .dataframe tbody tr th {\n",
       "        vertical-align: top;\n",
       "    }\n",
       "\n",
       "    .dataframe thead th {\n",
       "        text-align: right;\n",
       "    }\n",
       "</style>\n",
       "<table border=\"1\" class=\"dataframe\">\n",
       "  <thead>\n",
       "    <tr style=\"text-align: right;\">\n",
       "      <th></th>\n",
       "      <th>GameRound</th>\n",
       "      <th>Seed_int_x</th>\n",
       "      <th>Seed_int_y</th>\n",
       "      <th>G_x</th>\n",
       "      <th>W_x</th>\n",
       "      <th>L_x</th>\n",
       "      <th>W-L%_x</th>\n",
       "      <th>SRS_x</th>\n",
       "      <th>SOS_x</th>\n",
       "      <th>Points for_x</th>\n",
       "      <th>...</th>\n",
       "      <th>FG%_y</th>\n",
       "      <th>3P_y</th>\n",
       "      <th>3PA_y</th>\n",
       "      <th>3P%_y</th>\n",
       "      <th>FT_y</th>\n",
       "      <th>FTA_y</th>\n",
       "      <th>FT%_y</th>\n",
       "      <th>AST_y</th>\n",
       "      <th>STL_y</th>\n",
       "      <th>BLK_y</th>\n",
       "    </tr>\n",
       "  </thead>\n",
       "  <tbody>\n",
       "    <tr>\n",
       "      <th>9</th>\n",
       "      <td>0.560215</td>\n",
       "      <td>-0.815217</td>\n",
       "      <td>0.227899</td>\n",
       "      <td>-1.002096</td>\n",
       "      <td>-0.450828</td>\n",
       "      <td>-0.193890</td>\n",
       "      <td>-0.091762</td>\n",
       "      <td>0.628925</td>\n",
       "      <td>0.779622</td>\n",
       "      <td>-0.125530</td>\n",
       "      <td>...</td>\n",
       "      <td>0.435945</td>\n",
       "      <td>-1.884883</td>\n",
       "      <td>-1.945694</td>\n",
       "      <td>-1.033906</td>\n",
       "      <td>0.109977</td>\n",
       "      <td>0.119260</td>\n",
       "      <td>0.038839</td>\n",
       "      <td>-0.940915</td>\n",
       "      <td>-0.227605</td>\n",
       "      <td>-1.194431</td>\n",
       "    </tr>\n",
       "    <tr>\n",
       "      <th>25</th>\n",
       "      <td>2.467677</td>\n",
       "      <td>-0.815217</td>\n",
       "      <td>-2.090957</td>\n",
       "      <td>1.624996</td>\n",
       "      <td>1.998759</td>\n",
       "      <td>-1.664928</td>\n",
       "      <td>1.756320</td>\n",
       "      <td>1.052697</td>\n",
       "      <td>0.693011</td>\n",
       "      <td>1.702986</td>\n",
       "      <td>...</td>\n",
       "      <td>2.125962</td>\n",
       "      <td>2.046781</td>\n",
       "      <td>1.225219</td>\n",
       "      <td>2.439017</td>\n",
       "      <td>1.435535</td>\n",
       "      <td>1.388707</td>\n",
       "      <td>0.492555</td>\n",
       "      <td>2.254723</td>\n",
       "      <td>0.918632</td>\n",
       "      <td>1.031405</td>\n",
       "    </tr>\n",
       "    <tr>\n",
       "      <th>28</th>\n",
       "      <td>-0.393517</td>\n",
       "      <td>-1.038889</td>\n",
       "      <td>1.155442</td>\n",
       "      <td>1.296609</td>\n",
       "      <td>-0.073968</td>\n",
       "      <td>1.277147</td>\n",
       "      <td>-0.596562</td>\n",
       "      <td>-0.014830</td>\n",
       "      <td>0.950678</td>\n",
       "      <td>0.983976</td>\n",
       "      <td>...</td>\n",
       "      <td>-1.990746</td>\n",
       "      <td>0.547074</td>\n",
       "      <td>0.670516</td>\n",
       "      <td>-0.016585</td>\n",
       "      <td>0.121812</td>\n",
       "      <td>0.182282</td>\n",
       "      <td>-0.131305</td>\n",
       "      <td>-1.450564</td>\n",
       "      <td>-0.754874</td>\n",
       "      <td>0.131066</td>\n",
       "    </tr>\n",
       "    <tr>\n",
       "      <th>31</th>\n",
       "      <td>0.560215</td>\n",
       "      <td>-1.038889</td>\n",
       "      <td>-0.699643</td>\n",
       "      <td>-0.016937</td>\n",
       "      <td>-0.073968</td>\n",
       "      <td>0.100317</td>\n",
       "      <td>-0.040426</td>\n",
       "      <td>0.067495</td>\n",
       "      <td>0.158189</td>\n",
       "      <td>-0.336274</td>\n",
       "      <td>...</td>\n",
       "      <td>-0.214061</td>\n",
       "      <td>-0.344643</td>\n",
       "      <td>0.256559</td>\n",
       "      <td>-1.560106</td>\n",
       "      <td>-1.203746</td>\n",
       "      <td>-1.438289</td>\n",
       "      <td>0.549270</td>\n",
       "      <td>-0.555235</td>\n",
       "      <td>-1.167520</td>\n",
       "      <td>0.381160</td>\n",
       "    </tr>\n",
       "    <tr>\n",
       "      <th>32</th>\n",
       "      <td>-0.393517</td>\n",
       "      <td>-1.038889</td>\n",
       "      <td>1.155442</td>\n",
       "      <td>-0.016937</td>\n",
       "      <td>-0.073968</td>\n",
       "      <td>0.100317</td>\n",
       "      <td>-0.040426</td>\n",
       "      <td>0.067495</td>\n",
       "      <td>0.158189</td>\n",
       "      <td>-0.336274</td>\n",
       "      <td>...</td>\n",
       "      <td>-1.774077</td>\n",
       "      <td>-0.060915</td>\n",
       "      <td>0.364188</td>\n",
       "      <td>-0.963746</td>\n",
       "      <td>-0.943368</td>\n",
       "      <td>-0.970124</td>\n",
       "      <td>-0.216377</td>\n",
       "      <td>-0.885818</td>\n",
       "      <td>-1.327993</td>\n",
       "      <td>-1.569572</td>\n",
       "    </tr>\n",
       "  </tbody>\n",
       "</table>\n",
       "<p>5 rows × 41 columns</p>\n",
       "</div>"
      ],
      "text/plain": [
       "    GameRound  Seed_int_x  Seed_int_y       G_x       W_x       L_x    W-L%_x  \\\n",
       "9    0.560215   -0.815217    0.227899 -1.002096 -0.450828 -0.193890 -0.091762   \n",
       "25   2.467677   -0.815217   -2.090957  1.624996  1.998759 -1.664928  1.756320   \n",
       "28  -0.393517   -1.038889    1.155442  1.296609 -0.073968  1.277147 -0.596562   \n",
       "31   0.560215   -1.038889   -0.699643 -0.016937 -0.073968  0.100317 -0.040426   \n",
       "32  -0.393517   -1.038889    1.155442 -0.016937 -0.073968  0.100317 -0.040426   \n",
       "\n",
       "       SRS_x     SOS_x  Points for_x    ...        FG%_y      3P_y     3PA_y  \\\n",
       "9   0.628925  0.779622     -0.125530    ...     0.435945 -1.884883 -1.945694   \n",
       "25  1.052697  0.693011      1.702986    ...     2.125962  2.046781  1.225219   \n",
       "28 -0.014830  0.950678      0.983976    ...    -1.990746  0.547074  0.670516   \n",
       "31  0.067495  0.158189     -0.336274    ...    -0.214061 -0.344643  0.256559   \n",
       "32  0.067495  0.158189     -0.336274    ...    -1.774077 -0.060915  0.364188   \n",
       "\n",
       "       3P%_y      FT_y     FTA_y     FT%_y     AST_y     STL_y     BLK_y  \n",
       "9  -1.033906  0.109977  0.119260  0.038839 -0.940915 -0.227605 -1.194431  \n",
       "25  2.439017  1.435535  1.388707  0.492555  2.254723  0.918632  1.031405  \n",
       "28 -0.016585  0.121812  0.182282 -0.131305 -1.450564 -0.754874  0.131066  \n",
       "31 -1.560106 -1.203746 -1.438289  0.549270 -0.555235 -1.167520  0.381160  \n",
       "32 -0.963746 -0.943368 -0.970124 -0.216377 -0.885818 -1.327993 -1.569572  \n",
       "\n",
       "[5 rows x 41 columns]"
      ]
     },
     "execution_count": 41,
     "metadata": {},
     "output_type": "execute_result"
    }
   ],
   "source": [
    "df_final_test_dataset = groom_to_features(test_dataset)\n",
    "normed_test_data = norm(df_final_test_dataset, train_stats)\n",
    "\n",
    "normed_test_data.head()"
   ]
  },
  {
   "cell_type": "markdown",
   "metadata": {},
   "source": [
    "## Make Predictions"
   ]
  },
  {
   "cell_type": "code",
   "execution_count": 42,
   "metadata": {},
   "outputs": [
    {
     "data": {
      "text/plain": [
       "(87,)"
      ]
     },
     "execution_count": 42,
     "metadata": {},
     "output_type": "execute_result"
    }
   ],
   "source": [
    "test_predictions = model.predict(normed_test_data).flatten()\n",
    "\n",
    "test_predictions = denorm(test_predictions, train_labels.describe().transpose())\n",
    "test_predictions.shape"
   ]
  },
  {
   "cell_type": "markdown",
   "metadata": {},
   "source": [
    "## Plot Predictions"
   ]
  },
  {
   "cell_type": "code",
   "execution_count": 43,
   "metadata": {},
   "outputs": [
    {
     "data": {
      "image/png": "[encoded data removed]",
      "text/plain": [
       "<Figure size 432x288 with 1 Axes>"
      ]
     },
     "metadata": {
      "needs_background": "light"
     },
     "output_type": "display_data"
    }
   ],
   "source": [
    "plt.scatter(test_labels, test_predictions)\n",
    "plt.xlabel('True Values [ScoreDiff]')\n",
    "plt.ylabel('Predictions [ScoreDiff]')\n",
    "plt.axis('equal')\n",
    "plt.axis('square')\n",
    "\n",
    "_ = plt.plot([-100, 100], [-100, 100])"
   ]
  },
  {
   "cell_type": "code",
   "execution_count": 44,
   "metadata": {},
   "outputs": [
    {
     "data": {
      "text/html": [
       "<div>\n",
       "<style scoped>\n",
       "    .dataframe tbody tr th:only-of-type {\n",
       "        vertical-align: middle;\n",
       "    }\n",
       "\n",
       "    .dataframe tbody tr th {\n",
       "        vertical-align: top;\n",
       "    }\n",
       "\n",
       "    .dataframe thead th {\n",
       "        text-align: right;\n",
       "    }\n",
       "</style>\n",
       "<table border=\"1\" class=\"dataframe\">\n",
       "  <thead>\n",
       "    <tr style=\"text-align: right;\">\n",
       "      <th></th>\n",
       "      <th>Predicted</th>\n",
       "      <th>Actual</th>\n",
       "    </tr>\n",
       "  </thead>\n",
       "  <tbody>\n",
       "    <tr>\n",
       "      <th>0</th>\n",
       "      <td>2.890497</td>\n",
       "      <td>14</td>\n",
       "    </tr>\n",
       "    <tr>\n",
       "      <th>1</th>\n",
       "      <td>10.689357</td>\n",
       "      <td>-14</td>\n",
       "    </tr>\n",
       "    <tr>\n",
       "      <th>2</th>\n",
       "      <td>-11.535444</td>\n",
       "      <td>15</td>\n",
       "    </tr>\n",
       "    <tr>\n",
       "      <th>3</th>\n",
       "      <td>-3.689160</td>\n",
       "      <td>4</td>\n",
       "    </tr>\n",
       "    <tr>\n",
       "      <th>4</th>\n",
       "      <td>2.487542</td>\n",
       "      <td>-29</td>\n",
       "    </tr>\n",
       "    <tr>\n",
       "      <th>5</th>\n",
       "      <td>-6.732090</td>\n",
       "      <td>11</td>\n",
       "    </tr>\n",
       "    <tr>\n",
       "      <th>6</th>\n",
       "      <td>-13.594089</td>\n",
       "      <td>1</td>\n",
       "    </tr>\n",
       "    <tr>\n",
       "      <th>7</th>\n",
       "      <td>-4.404715</td>\n",
       "      <td>18</td>\n",
       "    </tr>\n",
       "    <tr>\n",
       "      <th>8</th>\n",
       "      <td>0.291730</td>\n",
       "      <td>-2</td>\n",
       "    </tr>\n",
       "    <tr>\n",
       "      <th>9</th>\n",
       "      <td>10.432018</td>\n",
       "      <td>-15</td>\n",
       "    </tr>\n",
       "    <tr>\n",
       "      <th>10</th>\n",
       "      <td>-1.910294</td>\n",
       "      <td>7</td>\n",
       "    </tr>\n",
       "    <tr>\n",
       "      <th>11</th>\n",
       "      <td>-7.623553</td>\n",
       "      <td>15</td>\n",
       "    </tr>\n",
       "    <tr>\n",
       "      <th>12</th>\n",
       "      <td>-7.623553</td>\n",
       "      <td>-15</td>\n",
       "    </tr>\n",
       "    <tr>\n",
       "      <th>13</th>\n",
       "      <td>3.634865</td>\n",
       "      <td>20</td>\n",
       "    </tr>\n",
       "    <tr>\n",
       "      <th>14</th>\n",
       "      <td>2.257204</td>\n",
       "      <td>-20</td>\n",
       "    </tr>\n",
       "    <tr>\n",
       "      <th>15</th>\n",
       "      <td>3.329249</td>\n",
       "      <td>-7</td>\n",
       "    </tr>\n",
       "    <tr>\n",
       "      <th>16</th>\n",
       "      <td>-14.328514</td>\n",
       "      <td>18</td>\n",
       "    </tr>\n",
       "    <tr>\n",
       "      <th>17</th>\n",
       "      <td>-0.936690</td>\n",
       "      <td>4</td>\n",
       "    </tr>\n",
       "    <tr>\n",
       "      <th>18</th>\n",
       "      <td>2.416239</td>\n",
       "      <td>-6</td>\n",
       "    </tr>\n",
       "    <tr>\n",
       "      <th>19</th>\n",
       "      <td>6.073803</td>\n",
       "      <td>-12</td>\n",
       "    </tr>\n",
       "    <tr>\n",
       "      <th>20</th>\n",
       "      <td>23.916849</td>\n",
       "      <td>-38</td>\n",
       "    </tr>\n",
       "    <tr>\n",
       "      <th>21</th>\n",
       "      <td>15.912818</td>\n",
       "      <td>-32</td>\n",
       "    </tr>\n",
       "    <tr>\n",
       "      <th>22</th>\n",
       "      <td>4.961552</td>\n",
       "      <td>-6</td>\n",
       "    </tr>\n",
       "    <tr>\n",
       "      <th>23</th>\n",
       "      <td>7.984694</td>\n",
       "      <td>-13</td>\n",
       "    </tr>\n",
       "    <tr>\n",
       "      <th>24</th>\n",
       "      <td>-4.068426</td>\n",
       "      <td>-16</td>\n",
       "    </tr>\n",
       "    <tr>\n",
       "      <th>25</th>\n",
       "      <td>-2.797999</td>\n",
       "      <td>8</td>\n",
       "    </tr>\n",
       "    <tr>\n",
       "      <th>26</th>\n",
       "      <td>5.594226</td>\n",
       "      <td>-14</td>\n",
       "    </tr>\n",
       "    <tr>\n",
       "      <th>27</th>\n",
       "      <td>3.039337</td>\n",
       "      <td>-14</td>\n",
       "    </tr>\n",
       "    <tr>\n",
       "      <th>28</th>\n",
       "      <td>0.282695</td>\n",
       "      <td>3</td>\n",
       "    </tr>\n",
       "    <tr>\n",
       "      <th>29</th>\n",
       "      <td>-1.461842</td>\n",
       "      <td>-5</td>\n",
       "    </tr>\n",
       "    <tr>\n",
       "      <th>...</th>\n",
       "      <td>...</td>\n",
       "      <td>...</td>\n",
       "    </tr>\n",
       "    <tr>\n",
       "      <th>57</th>\n",
       "      <td>1.041097</td>\n",
       "      <td>10</td>\n",
       "    </tr>\n",
       "    <tr>\n",
       "      <th>58</th>\n",
       "      <td>0.621118</td>\n",
       "      <td>4</td>\n",
       "    </tr>\n",
       "    <tr>\n",
       "      <th>59</th>\n",
       "      <td>1.041097</td>\n",
       "      <td>-10</td>\n",
       "    </tr>\n",
       "    <tr>\n",
       "      <th>60</th>\n",
       "      <td>-5.275133</td>\n",
       "      <td>8</td>\n",
       "    </tr>\n",
       "    <tr>\n",
       "      <th>61</th>\n",
       "      <td>-3.480918</td>\n",
       "      <td>-3</td>\n",
       "    </tr>\n",
       "    <tr>\n",
       "      <th>62</th>\n",
       "      <td>2.869057</td>\n",
       "      <td>-11</td>\n",
       "    </tr>\n",
       "    <tr>\n",
       "      <th>63</th>\n",
       "      <td>-2.313134</td>\n",
       "      <td>2</td>\n",
       "    </tr>\n",
       "    <tr>\n",
       "      <th>64</th>\n",
       "      <td>2.066934</td>\n",
       "      <td>-8</td>\n",
       "    </tr>\n",
       "    <tr>\n",
       "      <th>65</th>\n",
       "      <td>2.724941</td>\n",
       "      <td>4</td>\n",
       "    </tr>\n",
       "    <tr>\n",
       "      <th>66</th>\n",
       "      <td>2.724941</td>\n",
       "      <td>-4</td>\n",
       "    </tr>\n",
       "    <tr>\n",
       "      <th>67</th>\n",
       "      <td>6.715525</td>\n",
       "      <td>-18</td>\n",
       "    </tr>\n",
       "    <tr>\n",
       "      <th>68</th>\n",
       "      <td>-4.191782</td>\n",
       "      <td>3</td>\n",
       "    </tr>\n",
       "    <tr>\n",
       "      <th>69</th>\n",
       "      <td>-2.137949</td>\n",
       "      <td>13</td>\n",
       "    </tr>\n",
       "    <tr>\n",
       "      <th>70</th>\n",
       "      <td>-2.137949</td>\n",
       "      <td>-13</td>\n",
       "    </tr>\n",
       "    <tr>\n",
       "      <th>71</th>\n",
       "      <td>4.720015</td>\n",
       "      <td>1</td>\n",
       "    </tr>\n",
       "    <tr>\n",
       "      <th>72</th>\n",
       "      <td>2.259023</td>\n",
       "      <td>2</td>\n",
       "    </tr>\n",
       "    <tr>\n",
       "      <th>73</th>\n",
       "      <td>-5.612324</td>\n",
       "      <td>7</td>\n",
       "    </tr>\n",
       "    <tr>\n",
       "      <th>74</th>\n",
       "      <td>2.878034</td>\n",
       "      <td>-6</td>\n",
       "    </tr>\n",
       "    <tr>\n",
       "      <th>75</th>\n",
       "      <td>0.587545</td>\n",
       "      <td>-3</td>\n",
       "    </tr>\n",
       "    <tr>\n",
       "      <th>76</th>\n",
       "      <td>-15.636152</td>\n",
       "      <td>-11</td>\n",
       "    </tr>\n",
       "    <tr>\n",
       "      <th>77</th>\n",
       "      <td>-8.311636</td>\n",
       "      <td>14</td>\n",
       "    </tr>\n",
       "    <tr>\n",
       "      <th>78</th>\n",
       "      <td>-3.280666</td>\n",
       "      <td>1</td>\n",
       "    </tr>\n",
       "    <tr>\n",
       "      <th>79</th>\n",
       "      <td>-1.623871</td>\n",
       "      <td>10</td>\n",
       "    </tr>\n",
       "    <tr>\n",
       "      <th>80</th>\n",
       "      <td>4.675712</td>\n",
       "      <td>11</td>\n",
       "    </tr>\n",
       "    <tr>\n",
       "      <th>81</th>\n",
       "      <td>1.366838</td>\n",
       "      <td>2</td>\n",
       "    </tr>\n",
       "    <tr>\n",
       "      <th>82</th>\n",
       "      <td>4.675712</td>\n",
       "      <td>-11</td>\n",
       "    </tr>\n",
       "    <tr>\n",
       "      <th>83</th>\n",
       "      <td>2.842167</td>\n",
       "      <td>-15</td>\n",
       "    </tr>\n",
       "    <tr>\n",
       "      <th>84</th>\n",
       "      <td>-9.640690</td>\n",
       "      <td>10</td>\n",
       "    </tr>\n",
       "    <tr>\n",
       "      <th>85</th>\n",
       "      <td>-2.016244</td>\n",
       "      <td>8</td>\n",
       "    </tr>\n",
       "    <tr>\n",
       "      <th>86</th>\n",
       "      <td>-4.574193</td>\n",
       "      <td>1</td>\n",
       "    </tr>\n",
       "  </tbody>\n",
       "</table>\n",
       "<p>87 rows × 2 columns</p>\n",
       "</div>"
      ],
      "text/plain": [
       "    Predicted  Actual\n",
       "0    2.890497      14\n",
       "1   10.689357     -14\n",
       "2  -11.535444      15\n",
       "3   -3.689160       4\n",
       "4    2.487542     -29\n",
       "5   -6.732090      11\n",
       "6  -13.594089       1\n",
       "7   -4.404715      18\n",
       "8    0.291730      -2\n",
       "9   10.432018     -15\n",
       "10  -1.910294       7\n",
       "11  -7.623553      15\n",
       "12  -7.623553     -15\n",
       "13   3.634865      20\n",
       "14   2.257204     -20\n",
       "15   3.329249      -7\n",
       "16 -14.328514      18\n",
       "17  -0.936690       4\n",
       "18   2.416239      -6\n",
       "19   6.073803     -12\n",
       "20  23.916849     -38\n",
       "21  15.912818     -32\n",
       "22   4.961552      -6\n",
       "23   7.984694     -13\n",
       "24  -4.068426     -16\n",
       "25  -2.797999       8\n",
       "26   5.594226     -14\n",
       "27   3.039337     -14\n",
       "28   0.282695       3\n",
       "29  -1.461842      -5\n",
       "..        ...     ...\n",
       "57   1.041097      10\n",
       "58   0.621118       4\n",
       "59   1.041097     -10\n",
       "60  -5.275133       8\n",
       "61  -3.480918      -3\n",
       "62   2.869057     -11\n",
       "63  -2.313134       2\n",
       "64   2.066934      -8\n",
       "65   2.724941       4\n",
       "66   2.724941      -4\n",
       "67   6.715525     -18\n",
       "68  -4.191782       3\n",
       "69  -2.137949      13\n",
       "70  -2.137949     -13\n",
       "71   4.720015       1\n",
       "72   2.259023       2\n",
       "73  -5.612324       7\n",
       "74   2.878034      -6\n",
       "75   0.587545      -3\n",
       "76 -15.636152     -11\n",
       "77  -8.311636      14\n",
       "78  -3.280666       1\n",
       "79  -1.623871      10\n",
       "80   4.675712      11\n",
       "81   1.366838       2\n",
       "82   4.675712     -11\n",
       "83   2.842167     -15\n",
       "84  -9.640690      10\n",
       "85  -2.016244       8\n",
       "86  -4.574193       1\n",
       "\n",
       "[87 rows x 2 columns]"
      ]
     },
     "execution_count": 44,
     "metadata": {},
     "output_type": "execute_result"
    }
   ],
   "source": [
    "test_labels = test_labels.reset_index(drop=True)\n",
    "\n",
    "df_eval = pd.DataFrame()\n",
    "df_eval['Predicted'] = test_predictions\n",
    "df_eval['Actual'] = test_labels\n",
    "\n",
    "df_eval"
   ]
  },
  {
   "cell_type": "markdown",
   "metadata": {},
   "source": [
    "## Evaluate Hit Rate"
   ]
  },
  {
   "cell_type": "markdown",
   "metadata": {},
   "source": [
    "### Print Hit Rate"
   ]
  },
  {
   "cell_type": "code",
   "execution_count": 45,
   "metadata": {},
   "outputs": [
    {
     "name": "stdout",
     "output_type": "stream",
     "text": [
      "Total Games: 87\n",
      "Hit rate: 25.3%\n",
      "Points off per game: 13.39087958376983\n"
     ]
    }
   ],
   "source": [
    "correct = 0\n",
    "incorrect = 0\n",
    "points_off = 0\n",
    "\n",
    "def sign(x):\n",
    "    return 1 - (x<=0)\n",
    "\n",
    "for i,r in df_eval.iterrows():\n",
    "    points_off = abs(r['Predicted'] - r['Actual']) + points_off\n",
    "    if sign(r['Predicted']) == sign(r['Actual']):\n",
    "        correct = correct + 1\n",
    "    else:\n",
    "        incorrect = incorrect + 1\n",
    "    \n",
    "total_games = correct+incorrect\n",
    "hit_rate = correct / total_games\n",
    "err_per_game = points_off / total_games\n",
    "print('Total Games: ' + str(total_games))\n",
    "print('Hit rate: ' + '{:.1%}'.format(hit_rate))\n",
    "print('Points off per game: ' + str(err_per_game))"
   ]
  },
  {
   "cell_type": "code",
   "execution_count": null,
   "metadata": {},
   "outputs": [],
   "source": []
  }
 ],
 "metadata": {
  "kernelspec": {
   "display_name": "Python 3",
   "language": "python",
   "name": "python3"
  },
  "language_info": {
   "codemirror_mode": {
    "name": "ipython",
    "version": 3
   },
   "file_extension": ".py",
   "mimetype": "text/x-python",
   "name": "python",
   "nbconvert_exporter": "python",
   "pygments_lexer": "ipython3",
   "version": "3.7.1"
  }
 },
 "nbformat": 4,
 "nbformat_minor": 2
}
